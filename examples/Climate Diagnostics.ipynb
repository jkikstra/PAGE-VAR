{
 "cells": [
  {
   "cell_type": "markdown",
   "metadata": {},
   "source": [
    "# Climate component diagnostics"
   ]
  },
  {
   "cell_type": "markdown",
   "metadata": {},
   "source": [
    "The inputs and outputs to the `ClimateComponent` are as follows:\n",
    "\n",
    "## Inputs\n",
    "| Parameter | Description | Units |\n",
    "| --- | --- | --- |\n",
    "| AREA [R] | Region area | km$^2$ |\n",
    "| Y [I] | Analysis year (including $Y_0$, the baseline year) | year |\n",
    "| SENS | Climate sensitivity for a doubling of CO$_2$ | °C |\n",
    "| OCEAN | Half life of global response to increased forcing | year |\n",
    "| FSLOPE | Slope of radiative forcing equation | W / m$^2$ |\n",
    "| FT [I] | Total forcing | W / m$^2$ |\n",
    "| FS [I, R] | Radiative forcing from sulphates | W / m$^2$ |\n",
    "\n",
    "## Outputs\n",
    "| Parameter | Description | Units |\n",
    "| --- | --- | --- |\n",
    "| ET [I] | Equilibrium temperature | °C |\n",
    "| RT [I, R] | Realised temperature | °C |\n",
    "| GRT [I] | Global realised temperature | °C |"
   ]
  },
  {
   "cell_type": "markdown",
   "metadata": {},
   "source": [
    "The ClimateComponent computes global realized temperature as follows (from Hope, 2006, equations 19-21):\n",
    "$$ET_{i,r} = \\frac{SENS}{ln(2)} \\frac{FT_i + FS_{i,r}}{FSLOPE}$$\n",
    "$$RT_{i,r} = RT_{i-1,r} + \\left(1 - e^\\frac{Y_i - Y_{i-1}}{OCEAN}\\right) (ET_{i,r} - RT_{i-1,r})$$\n",
    "$$GRT_i = \\frac{\\sum_r RT_{i,r} AREA_r}{\\sum_r AREA_r}$$"
   ]
  },
  {
   "cell_type": "code",
   "execution_count": 1,
   "metadata": {},
   "outputs": [
    {
     "name": "stderr",
     "output_type": "stream",
     "text": [
      "┌ Info: Loading Cairo backend into Compose.jl\n",
      "└ @ Compose /Users/jrising/.julia/packages/Compose/wlPCt/src/Compose.jl:164\n"
     ]
    }
   ],
   "source": [
    "include(\"../src/climate_model.jl\")"
   ]
  },
  {
   "cell_type": "code",
   "execution_count": 2,
   "metadata": {},
   "outputs": [
    {
     "data": {
      "text/html": [
       "<table class=\"data-frame\"><thead><tr><th></th><th>time</th><th>rt_g_globaltemperature</th></tr><tr><th></th><th>Date</th><th>Float64⍰</th></tr></thead><tbody><p>10 rows × 2 columns</p><tr><th>1</th><td>2009-01-01</td><td>0.751085</td></tr><tr><th>2</th><td>2010-01-01</td><td>0.767377</td></tr><tr><th>3</th><td>2020-01-01</td><td>0.991085</td></tr><tr><th>4</th><td>2030-01-01</td><td>1.27184</td></tr><tr><th>5</th><td>2040-01-01</td><td>1.62232</td></tr><tr><th>6</th><td>2050-01-01</td><td>1.99298</td></tr><tr><th>7</th><td>2075-01-01</td><td>3.07071</td></tr><tr><th>8</th><td>2100-01-01</td><td>3.90181</td></tr><tr><th>9</th><td>2150-01-01</td><td>5.0993</td></tr><tr><th>10</th><td>2200-01-01</td><td>6.02732</td></tr></tbody></table>"
      ],
      "text/latex": [
       "\\begin{tabular}{r|cc}\n",
       "\t& time & rt\\_g\\_globaltemperature\\\\\n",
       "\t\\hline\n",
       "\t& Date & Float64⍰\\\\\n",
       "\t\\hline\n",
       "\t1 & 2009-01-01 & 0.751085 \\\\\n",
       "\t2 & 2010-01-01 & 0.767377 \\\\\n",
       "\t3 & 2020-01-01 & 0.991085 \\\\\n",
       "\t4 & 2030-01-01 & 1.27184 \\\\\n",
       "\t5 & 2040-01-01 & 1.62232 \\\\\n",
       "\t6 & 2050-01-01 & 1.99298 \\\\\n",
       "\t7 & 2075-01-01 & 3.07071 \\\\\n",
       "\t8 & 2100-01-01 & 3.90181 \\\\\n",
       "\t9 & 2150-01-01 & 5.0993 \\\\\n",
       "\t10 & 2200-01-01 & 6.02732 \\\\\n",
       "\\end{tabular}\n"
      ],
      "text/plain": [
       "10×2 DataFrames.DataFrame\n",
       "│ Row │ time       │ rt_g_globaltemperature │\n",
       "│     │ \u001b[90mDate\u001b[39m       │ \u001b[90mFloat64⍰\u001b[39m               │\n",
       "├─────┼────────────┼────────────────────────┤\n",
       "│ 1   │ 2009-01-01 │ 0.751085               │\n",
       "│ 2   │ 2010-01-01 │ 0.767377               │\n",
       "│ 3   │ 2020-01-01 │ 0.991085               │\n",
       "│ 4   │ 2030-01-01 │ 1.27184                │\n",
       "│ 5   │ 2040-01-01 │ 1.62232                │\n",
       "│ 6   │ 2050-01-01 │ 1.99298                │\n",
       "│ 7   │ 2075-01-01 │ 3.07071                │\n",
       "│ 8   │ 2100-01-01 │ 3.90181                │\n",
       "│ 9   │ 2150-01-01 │ 5.0993                 │\n",
       "│ 10  │ 2200-01-01 │ 6.02732                │"
      ]
     },
     "execution_count": 2,
     "metadata": {},
     "output_type": "execute_result"
    }
   ],
   "source": [
    "using Dates\n",
    "df = getdataframe(m, :ClimateTemperature, :rt_g_globaltemperature)\n",
    "df[:time] = Date.(df[:time])\n",
    "df"
   ]
  },
  {
   "cell_type": "code",
   "execution_count": 3,
   "metadata": {},
   "outputs": [
    {
     "data": {
      "application/vnd.vegalite.v2+json": {
       "data": {
        "values": [
         {
          "rt_g_globaltemperature": 0.7510850786298016,
          "time": "2009-01-01"
         },
         {
          "rt_g_globaltemperature": 0.7673766908427656,
          "time": "2010-01-01"
         },
         {
          "rt_g_globaltemperature": 0.9910848207194174,
          "time": "2020-01-01"
         },
         {
          "rt_g_globaltemperature": 1.2718392947122426,
          "time": "2030-01-01"
         },
         {
          "rt_g_globaltemperature": 1.6223170987629367,
          "time": "2040-01-01"
         },
         {
          "rt_g_globaltemperature": 1.9929804161195213,
          "time": "2050-01-01"
         },
         {
          "rt_g_globaltemperature": 3.0707098646985163,
          "time": "2075-01-01"
         },
         {
          "rt_g_globaltemperature": 3.9018118895560576,
          "time": "2100-01-01"
         },
         {
          "rt_g_globaltemperature": 5.0992952246316285,
          "time": "2150-01-01"
         },
         {
          "rt_g_globaltemperature": 6.027324553899998,
          "time": "2200-01-01"
         }
        ]
       },
       "encoding": {
        "x": {
         "field": "time",
         "timeUnit": "year",
         "type": "temporal"
        },
        "y": {
         "field": "rt_g_globaltemperature",
         "type": "quantitative"
        }
       },
       "height": 400,
       "mark": "line",
       "width": 400
      },
      "image/png": "[encoded data removed]",
      "image/svg+xml": [
       "<?xml version=\"1.0\" encoding=\"utf-8\"?>\n",
       "<!DOCTYPE svg PUBLIC \"-//W3C//DTD SVG 1.1//EN\" \"http://www.w3.org/Graphics/SVG/1.1/DTD/svg11.dtd\">\n",
       "<svg class=\"marks\" width=\"461\" height=\"451\" viewBox=\"0 0 461 451\" version=\"1.1\" xmlns=\"http://www.w3.org/2000/svg\" xmlns:xlink=\"http://www.w3.org/1999/xlink\"><g transform=\"translate(54,11)\"><g class=\"mark-group role-frame root\"><g transform=\"translate(0,0)\"><path class=\"background\" d=\"M0.5,0.5h400v400h-400Z\" style=\"fill: none; stroke: #ddd;\"></path><g><g class=\"mark-group role-axis\"><g transform=\"translate(0.5,400.5)\"><path class=\"background\" d=\"M0,0h0v0h0Z\" style=\"pointer-events: none; fill: none;\"></path><g><g class=\"mark-rule role-axis-grid\" style=\"pointer-events: none;\"><line transform=\"translate(23,-400)\" x2=\"0\" y2=\"400\" style=\"fill: none; stroke: #ddd; stroke-width: 1; opacity: 1;\"></line><line transform=\"translate(65,-400)\" x2=\"0\" y2=\"400\" style=\"fill: none; stroke: #ddd; stroke-width: 1; opacity: 1;\"></line><line transform=\"translate(107,-400)\" x2=\"0\" y2=\"400\" style=\"fill: none; stroke: #ddd; stroke-width: 1; opacity: 1;\"></line><line transform=\"translate(149,-400)\" x2=\"0\" y2=\"400\" style=\"fill: none; stroke: #ddd; stroke-width: 1; opacity: 1;\"></line><line transform=\"translate(191,-400)\" x2=\"0\" y2=\"400\" style=\"fill: none; stroke: #ddd; stroke-width: 1; opacity: 1;\"></line><line transform=\"translate(232,-400)\" x2=\"0\" y2=\"400\" style=\"fill: none; stroke: #ddd; stroke-width: 1; opacity: 1;\"></line><line transform=\"translate(274,-400)\" x2=\"0\" y2=\"400\" style=\"fill: none; stroke: #ddd; stroke-width: 1; opacity: 1;\"></line><line transform=\"translate(316,-400)\" x2=\"0\" y2=\"400\" style=\"fill: none; stroke: #ddd; stroke-width: 1; opacity: 1;\"></line><line transform=\"translate(358,-400)\" x2=\"0\" y2=\"400\" style=\"fill: none; stroke: #ddd; stroke-width: 1; opacity: 1;\"></line><line transform=\"translate(400,-400)\" x2=\"0\" y2=\"400\" style=\"fill: none; stroke: #ddd; stroke-width: 1; opacity: 1;\"></line></g></g></g></g><g class=\"mark-group role-axis\"><g transform=\"translate(0.5,0.5)\"><path class=\"background\" d=\"M0,0h0v0h0Z\" style=\"pointer-events: none; fill: none;\"></path><g><g class=\"mark-rule role-axis-grid\" style=\"pointer-events: none;\"><line transform=\"translate(0,400)\" x2=\"400\" y2=\"0\" style=\"fill: none; stroke: #ddd; stroke-width: 1; opacity: 1;\"></line><line transform=\"translate(0,369)\" x2=\"400\" y2=\"0\" style=\"fill: none; stroke: #ddd; stroke-width: 1; opacity: 1;\"></line><line transform=\"translate(0,338)\" x2=\"400\" y2=\"0\" style=\"fill: none; stroke: #ddd; stroke-width: 1; opacity: 1;\"></line><line transform=\"translate(0,308)\" x2=\"400\" y2=\"0\" style=\"fill: none; stroke: #ddd; stroke-width: 1; opacity: 1;\"></line><line transform=\"translate(0,277)\" x2=\"400\" y2=\"0\" style=\"fill: none; stroke: #ddd; stroke-width: 1; opacity: 1;\"></line><line transform=\"translate(0,246)\" x2=\"400\" y2=\"0\" style=\"fill: none; stroke: #ddd; stroke-width: 1; opacity: 1;\"></line><line transform=\"translate(0,215)\" x2=\"400\" y2=\"0\" style=\"fill: none; stroke: #ddd; stroke-width: 1; opacity: 1;\"></line><line transform=\"translate(0,185)\" x2=\"400\" y2=\"0\" style=\"fill: none; stroke: #ddd; stroke-width: 1; opacity: 1;\"></line><line transform=\"translate(0,154)\" x2=\"400\" y2=\"0\" style=\"fill: none; stroke: #ddd; stroke-width: 1; opacity: 1;\"></line><line transform=\"translate(0,123)\" x2=\"400\" y2=\"0\" style=\"fill: none; stroke: #ddd; stroke-width: 1; opacity: 1;\"></line><line transform=\"translate(0,92)\" x2=\"400\" y2=\"0\" style=\"fill: none; stroke: #ddd; stroke-width: 1; opacity: 1;\"></line><line transform=\"translate(0,62)\" x2=\"400\" y2=\"0\" style=\"fill: none; stroke: #ddd; stroke-width: 1; opacity: 1;\"></line><line transform=\"translate(0,31)\" x2=\"400\" y2=\"0\" style=\"fill: none; stroke: #ddd; stroke-width: 1; opacity: 1;\"></line><line transform=\"translate(0,0)\" x2=\"400\" y2=\"0\" style=\"fill: none; stroke: #ddd; stroke-width: 1; opacity: 1;\"></line></g></g></g></g><g class=\"mark-line role-mark marks\"><path d=\"M400,29.08771976000014L295.28819827697424,86.19721694574594L190.57639655394848,159.88849910424258L138.2204956924356,211.03323909547592L85.86459483092273,277.35505131572177L64.91879416866158,300.1651016145885L43.97872736916042,321.7329664792466L23.03292670689927,339.0101648788051L2.0928599073981164,352.7768190250606L0,353.7793797766276\" style=\"fill: none; stroke: #4c78a8; stroke-width: 2;\"></path></g><g class=\"mark-group role-axis\"><g transform=\"translate(0.5,400.5)\"><path class=\"background\" d=\"M0,0h0v0h0Z\" style=\"pointer-events: none; fill: none;\"></path><g><g class=\"mark-rule role-axis-tick\" style=\"pointer-events: none;\"><line transform=\"translate(23,0)\" x2=\"0\" y2=\"5\" style=\"fill: none; stroke: #888; stroke-width: 1; opacity: 1;\"></line><line transform=\"translate(65,0)\" x2=\"0\" y2=\"5\" style=\"fill: none; stroke: #888; stroke-width: 1; opacity: 1;\"></line><line transform=\"translate(107,0)\" x2=\"0\" y2=\"5\" style=\"fill: none; stroke: #888; stroke-width: 1; opacity: 1;\"></line><line transform=\"translate(149,0)\" x2=\"0\" y2=\"5\" style=\"fill: none; stroke: #888; stroke-width: 1; opacity: 1;\"></line><line transform=\"translate(191,0)\" x2=\"0\" y2=\"5\" style=\"fill: none; stroke: #888; stroke-width: 1; opacity: 1;\"></line><line transform=\"translate(232,0)\" x2=\"0\" y2=\"5\" style=\"fill: none; stroke: #888; stroke-width: 1; opacity: 1;\"></line><line transform=\"translate(274,0)\" x2=\"0\" y2=\"5\" style=\"fill: none; stroke: #888; stroke-width: 1; opacity: 1;\"></line><line transform=\"translate(316,0)\" x2=\"0\" y2=\"5\" style=\"fill: none; stroke: #888; stroke-width: 1; opacity: 1;\"></line><line transform=\"translate(358,0)\" x2=\"0\" y2=\"5\" style=\"fill: none; stroke: #888; stroke-width: 1; opacity: 1;\"></line><line transform=\"translate(400,0)\" x2=\"0\" y2=\"5\" style=\"fill: none; stroke: #888; stroke-width: 1; opacity: 1;\"></line></g><g class=\"mark-text role-axis-label\" style=\"pointer-events: none;\"><text text-anchor=\"middle\" transform=\"translate(23.03292670689927,15)\" style=\"font-family: sans-serif; font-size: 10px; fill: #000; opacity: 1;\">2020</text><text text-anchor=\"middle\" transform=\"translate(64.91879416866158,15)\" style=\"font-family: sans-serif; font-size: 10px; fill: #000; opacity: 0;\">2040</text><text text-anchor=\"middle\" transform=\"translate(106.80466163042388,15)\" style=\"font-family: sans-serif; font-size: 10px; fill: #000; opacity: 1;\">2060</text><text text-anchor=\"middle\" transform=\"translate(148.69052909218618,15)\" style=\"font-family: sans-serif; font-size: 10px; fill: #000; opacity: 0;\">2080</text><text text-anchor=\"middle\" transform=\"translate(190.57639655394848,15)\" style=\"font-family: sans-serif; font-size: 10px; fill: #000; opacity: 1;\">2100</text><text text-anchor=\"middle\" transform=\"translate(232.4565301529508,15)\" style=\"font-family: sans-serif; font-size: 10px; fill: #000; opacity: 0;\">2120</text><text text-anchor=\"middle\" transform=\"translate(274.3423976147131,15)\" style=\"font-family: sans-serif; font-size: 10px; fill: #000; opacity: 1;\">2140</text><text text-anchor=\"middle\" transform=\"translate(316.2282650764754,15)\" style=\"font-family: sans-serif; font-size: 10px; fill: #000; opacity: 0;\">2160</text><text text-anchor=\"middle\" transform=\"translate(358.1141325382377,15)\" style=\"font-family: sans-serif; font-size: 10px; fill: #000; opacity: 1;\">2180</text><text text-anchor=\"end\" transform=\"translate(400,15)\" style=\"font-family: sans-serif; font-size: 10px; fill: #000; opacity: 0;\">2200</text></g><g class=\"mark-rule role-axis-domain\" style=\"pointer-events: none;\"><line transform=\"translate(0,0)\" x2=\"400\" y2=\"0\" style=\"fill: none; stroke: #888; stroke-width: 1; opacity: 1;\"></line></g><g class=\"mark-text role-axis-title\" style=\"pointer-events: none;\"><text text-anchor=\"middle\" transform=\"translate(200,31)\" style=\"font-family: sans-serif; font-size: 11px; font-weight: bold; fill: #000; opacity: 1;\">time (year)</text></g></g></g></g><g class=\"mark-group role-axis\"><g transform=\"translate(0.5,0.5)\"><path class=\"background\" d=\"M0,0h0v0h0Z\" style=\"pointer-events: none; fill: none;\"></path><g><g class=\"mark-rule role-axis-tick\" style=\"pointer-events: none;\"><line transform=\"translate(0,400)\" x2=\"-5\" y2=\"0\" style=\"fill: none; stroke: #888; stroke-width: 1; opacity: 1;\"></line><line transform=\"translate(0,369)\" x2=\"-5\" y2=\"0\" style=\"fill: none; stroke: #888; stroke-width: 1; opacity: 1;\"></line><line transform=\"translate(0,338)\" x2=\"-5\" y2=\"0\" style=\"fill: none; stroke: #888; stroke-width: 1; opacity: 1;\"></line><line transform=\"translate(0,308)\" x2=\"-5\" y2=\"0\" style=\"fill: none; stroke: #888; stroke-width: 1; opacity: 1;\"></line><line transform=\"translate(0,277)\" x2=\"-5\" y2=\"0\" style=\"fill: none; stroke: #888; stroke-width: 1; opacity: 1;\"></line><line transform=\"translate(0,246)\" x2=\"-5\" y2=\"0\" style=\"fill: none; stroke: #888; stroke-width: 1; opacity: 1;\"></line><line transform=\"translate(0,215)\" x2=\"-5\" y2=\"0\" style=\"fill: none; stroke: #888; stroke-width: 1; opacity: 1;\"></line><line transform=\"translate(0,185)\" x2=\"-5\" y2=\"0\" style=\"fill: none; stroke: #888; stroke-width: 1; opacity: 1;\"></line><line transform=\"translate(0,154)\" x2=\"-5\" y2=\"0\" style=\"fill: none; stroke: #888; stroke-width: 1; opacity: 1;\"></line><line transform=\"translate(0,123)\" x2=\"-5\" y2=\"0\" style=\"fill: none; stroke: #888; stroke-width: 1; opacity: 1;\"></line><line transform=\"translate(0,92)\" x2=\"-5\" y2=\"0\" style=\"fill: none; stroke: #888; stroke-width: 1; opacity: 1;\"></line><line transform=\"translate(0,62)\" x2=\"-5\" y2=\"0\" style=\"fill: none; stroke: #888; stroke-width: 1; opacity: 1;\"></line><line transform=\"translate(0,31)\" x2=\"-5\" y2=\"0\" style=\"fill: none; stroke: #888; stroke-width: 1; opacity: 1;\"></line><line transform=\"translate(0,0)\" x2=\"-5\" y2=\"0\" style=\"fill: none; stroke: #888; stroke-width: 1; opacity: 1;\"></line></g><g class=\"mark-text role-axis-label\" style=\"pointer-events: none;\"><text text-anchor=\"end\" transform=\"translate(-7,403)\" style=\"font-family: sans-serif; font-size: 10px; fill: #000; opacity: 1;\">0.0</text><text text-anchor=\"end\" transform=\"translate(-7,372.2307692307692)\" style=\"font-family: sans-serif; font-size: 10px; fill: #000; opacity: 1;\">0.5</text><text text-anchor=\"end\" transform=\"translate(-7,341.46153846153845)\" style=\"font-family: sans-serif; font-size: 10px; fill: #000; opacity: 1;\">1.0</text><text text-anchor=\"end\" transform=\"translate(-7,310.6923076923077)\" style=\"font-family: sans-serif; font-size: 10px; fill: #000; opacity: 1;\">1.5</text><text text-anchor=\"end\" transform=\"translate(-7,279.9230769230769)\" style=\"font-family: sans-serif; font-size: 10px; fill: #000; opacity: 1;\">2.0</text><text text-anchor=\"end\" transform=\"translate(-7,249.15384615384613)\" style=\"font-family: sans-serif; font-size: 10px; fill: #000; opacity: 1;\">2.5</text><text text-anchor=\"end\" transform=\"translate(-7,218.3846153846154)\" style=\"font-family: sans-serif; font-size: 10px; fill: #000; opacity: 1;\">3.0</text><text text-anchor=\"end\" transform=\"translate(-7,187.6153846153846)\" style=\"font-family: sans-serif; font-size: 10px; fill: #000; opacity: 1;\">3.5</text><text text-anchor=\"end\" transform=\"translate(-7,156.84615384615384)\" style=\"font-family: sans-serif; font-size: 10px; fill: #000; opacity: 1;\">4.0</text><text text-anchor=\"end\" transform=\"translate(-7,126.0769230769231)\" style=\"font-family: sans-serif; font-size: 10px; fill: #000; opacity: 1;\">4.5</text><text text-anchor=\"end\" transform=\"translate(-7,95.30769230769226)\" style=\"font-family: sans-serif; font-size: 10px; fill: #000; opacity: 1;\">5.0</text><text text-anchor=\"end\" transform=\"translate(-7,64.53846153846155)\" style=\"font-family: sans-serif; font-size: 10px; fill: #000; opacity: 1;\">5.5</text><text text-anchor=\"end\" transform=\"translate(-7,33.769230769230774)\" style=\"font-family: sans-serif; font-size: 10px; fill: #000; opacity: 1;\">6.0</text><text text-anchor=\"end\" transform=\"translate(-7,3)\" style=\"font-family: sans-serif; font-size: 10px; fill: #000; opacity: 1;\">6.5</text></g><g class=\"mark-rule role-axis-domain\" style=\"pointer-events: none;\"><line transform=\"translate(0,400)\" x2=\"0\" y2=\"-400\" style=\"fill: none; stroke: #888; stroke-width: 1; opacity: 1;\"></line></g><g class=\"mark-text role-axis-title\" style=\"pointer-events: none;\"><text text-anchor=\"middle\" transform=\"translate(-36,200) rotate(-90) translate(0,-2)\" style=\"font-family: sans-serif; font-size: 11px; font-weight: bold; fill: #000; opacity: 1;\">rt_g_globaltemperature</text></g></g></g></g></g></g></g></g></svg>"
      ],
      "text/plain": [
       "VegaLite.VLSpec{:plot}"
      ]
     },
     "execution_count": 3,
     "metadata": {},
     "output_type": "execute_result"
    }
   ],
   "source": [
    "using VegaLite\n",
    "\n",
    "df |> @vlplot(:line, x=\"year(time)\", y=:rt_g_globaltemperature, width=400, height=400)"
   ]
  }
 ],
 "metadata": {
  "kernelspec": {
   "display_name": "Julia 1.0.3",
   "language": "julia",
   "name": "julia-1.0"
  },
  "language_info": {
   "file_extension": ".jl",
   "mimetype": "application/julia",
   "name": "julia",
   "version": "1.0.3"
  }
 },
 "nbformat": 4,
 "nbformat_minor": 2
}
