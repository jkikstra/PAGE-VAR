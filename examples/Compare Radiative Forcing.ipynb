{
 "cells": [
  {
   "cell_type": "markdown",
   "metadata": {},
   "source": [
    "# Comparing to RCP 8.5\n",
    "\n",
    "RCP 8.5 is the CMIP5 high emissions scenario, defined by the radiative forcing.  Since it represents a kind of \"business as usual\" scenario outside of PAGE, it provides a reasonable comparison case for the radiative forcings produced by PAGE."
   ]
  },
  {
   "cell_type": "code",
   "execution_count": 1,
   "metadata": {
    "collapsed": true
   },
   "outputs": [],
   "source": [
    "using DataFrames, CSVFiles, Query, VegaLite, Dates"
   ]
  },
  {
   "cell_type": "code",
   "execution_count": 2,
   "metadata": {},
   "outputs": [
    {
     "name": "stderr",
     "output_type": "stream",
     "text": [
      "┌ Info: Loading Cairo backend into Compose.jl\n",
      "└ @ Compose /Users/jrising/.julia/packages/Compose/wlPCt/src/Compose.jl:164\n"
     ]
    }
   ],
   "source": [
    "# Run the model\n",
    "include(\"../src/main_model.jl\")"
   ]
  },
  {
   "cell_type": "code",
   "execution_count": 3,
   "metadata": {},
   "outputs": [
    {
     "data": {
      "text/html": [
       "<table class=\"data-frame\"><thead><tr><th></th><th>model</th><th>year</th><th>variable</th><th>value</th></tr><tr><th></th><th>String</th><th>Date</th><th>Any</th><th>Float64⍰</th></tr></thead><tbody><p>2,238 rows × 4 columns</p><tr><th>1</th><td>RCP 8.5</td><td>1765-01-01</td><td>CO2_RF</td><td>0.0</td></tr><tr><th>2</th><td>RCP 8.5</td><td>1766-01-01</td><td>CO2_RF</td><td>0.0110491</td></tr><tr><th>3</th><td>RCP 8.5</td><td>1767-01-01</td><td>CO2_RF</td><td>0.023246</td></tr><tr><th>4</th><td>RCP 8.5</td><td>1768-01-01</td><td>CO2_RF</td><td>0.0256052</td></tr><tr><th>5</th><td>RCP 8.5</td><td>1769-01-01</td><td>CO2_RF</td><td>0.028057</td></tr><tr><th>6</th><td>RCP 8.5</td><td>1770-01-01</td><td>CO2_RF</td><td>0.0305529</td></tr><tr><th>7</th><td>RCP 8.5</td><td>1771-01-01</td><td>CO2_RF</td><td>0.0330936</td></tr><tr><th>8</th><td>RCP 8.5</td><td>1772-01-01</td><td>CO2_RF</td><td>0.0357058</td></tr><tr><th>9</th><td>RCP 8.5</td><td>1773-01-01</td><td>CO2_RF</td><td>0.0383971</td></tr><tr><th>10</th><td>RCP 8.5</td><td>1774-01-01</td><td>CO2_RF</td><td>0.0411609</td></tr><tr><th>11</th><td>RCP 8.5</td><td>1775-01-01</td><td>CO2_RF</td><td>0.0440096</td></tr><tr><th>12</th><td>RCP 8.5</td><td>1776-01-01</td><td>CO2_RF</td><td>0.0469792</td></tr><tr><th>13</th><td>RCP 8.5</td><td>1777-01-01</td><td>CO2_RF</td><td>0.0500673</td></tr><tr><th>14</th><td>RCP 8.5</td><td>1778-01-01</td><td>CO2_RF</td><td>0.0532026</td></tr><tr><th>15</th><td>RCP 8.5</td><td>1779-01-01</td><td>CO2_RF</td><td>0.0562871</td></tr><tr><th>16</th><td>RCP 8.5</td><td>1780-01-01</td><td>CO2_RF</td><td>0.0592345</td></tr><tr><th>17</th><td>RCP 8.5</td><td>1781-01-01</td><td>CO2_RF</td><td>0.0620123</td></tr><tr><th>18</th><td>RCP 8.5</td><td>1782-01-01</td><td>CO2_RF</td><td>0.0646641</td></tr><tr><th>19</th><td>RCP 8.5</td><td>1783-01-01</td><td>CO2_RF</td><td>0.0672719</td></tr><tr><th>20</th><td>RCP 8.5</td><td>1784-01-01</td><td>CO2_RF</td><td>0.0699211</td></tr><tr><th>21</th><td>RCP 8.5</td><td>1785-01-01</td><td>CO2_RF</td><td>0.0726933</td></tr><tr><th>22</th><td>RCP 8.5</td><td>1786-01-01</td><td>CO2_RF</td><td>0.0756317</td></tr><tr><th>23</th><td>RCP 8.5</td><td>1787-01-01</td><td>CO2_RF</td><td>0.0787033</td></tr><tr><th>24</th><td>RCP 8.5</td><td>1788-01-01</td><td>CO2_RF</td><td>0.0818218</td></tr><tr><th>25</th><td>RCP 8.5</td><td>1789-01-01</td><td>CO2_RF</td><td>0.0848899</td></tr><tr><th>26</th><td>RCP 8.5</td><td>1790-01-01</td><td>CO2_RF</td><td>0.0878369</td></tr><tr><th>27</th><td>RCP 8.5</td><td>1791-01-01</td><td>CO2_RF</td><td>0.090661</td></tr><tr><th>28</th><td>RCP 8.5</td><td>1792-01-01</td><td>CO2_RF</td><td>0.0933979</td></tr><tr><th>29</th><td>RCP 8.5</td><td>1793-01-01</td><td>CO2_RF</td><td>0.0960604</td></tr><tr><th>30</th><td>RCP 8.5</td><td>1794-01-01</td><td>CO2_RF</td><td>0.0986421</td></tr><tr><th>&vellip;</th><td>&vellip;</td><td>&vellip;</td><td>&vellip;</td><td>&vellip;</td></tr></tbody></table>"
      ],
      "text/latex": [
       "\\begin{tabular}{r|cccc}\n",
       "\t& model & year & variable & value\\\\\n",
       "\t\\hline\n",
       "\t& String & Date & Any & Float64⍰\\\\\n",
       "\t\\hline\n",
       "\t1 & RCP 8.5 & 1765-01-01 & CO2\\_RF & 0.0 \\\\\n",
       "\t2 & RCP 8.5 & 1766-01-01 & CO2\\_RF & 0.0110491 \\\\\n",
       "\t3 & RCP 8.5 & 1767-01-01 & CO2\\_RF & 0.023246 \\\\\n",
       "\t4 & RCP 8.5 & 1768-01-01 & CO2\\_RF & 0.0256052 \\\\\n",
       "\t5 & RCP 8.5 & 1769-01-01 & CO2\\_RF & 0.028057 \\\\\n",
       "\t6 & RCP 8.5 & 1770-01-01 & CO2\\_RF & 0.0305529 \\\\\n",
       "\t7 & RCP 8.5 & 1771-01-01 & CO2\\_RF & 0.0330936 \\\\\n",
       "\t8 & RCP 8.5 & 1772-01-01 & CO2\\_RF & 0.0357058 \\\\\n",
       "\t9 & RCP 8.5 & 1773-01-01 & CO2\\_RF & 0.0383971 \\\\\n",
       "\t10 & RCP 8.5 & 1774-01-01 & CO2\\_RF & 0.0411609 \\\\\n",
       "\t11 & RCP 8.5 & 1775-01-01 & CO2\\_RF & 0.0440096 \\\\\n",
       "\t12 & RCP 8.5 & 1776-01-01 & CO2\\_RF & 0.0469792 \\\\\n",
       "\t13 & RCP 8.5 & 1777-01-01 & CO2\\_RF & 0.0500673 \\\\\n",
       "\t14 & RCP 8.5 & 1778-01-01 & CO2\\_RF & 0.0532026 \\\\\n",
       "\t15 & RCP 8.5 & 1779-01-01 & CO2\\_RF & 0.0562871 \\\\\n",
       "\t16 & RCP 8.5 & 1780-01-01 & CO2\\_RF & 0.0592345 \\\\\n",
       "\t17 & RCP 8.5 & 1781-01-01 & CO2\\_RF & 0.0620123 \\\\\n",
       "\t18 & RCP 8.5 & 1782-01-01 & CO2\\_RF & 0.0646641 \\\\\n",
       "\t19 & RCP 8.5 & 1783-01-01 & CO2\\_RF & 0.0672719 \\\\\n",
       "\t20 & RCP 8.5 & 1784-01-01 & CO2\\_RF & 0.0699211 \\\\\n",
       "\t21 & RCP 8.5 & 1785-01-01 & CO2\\_RF & 0.0726933 \\\\\n",
       "\t22 & RCP 8.5 & 1786-01-01 & CO2\\_RF & 0.0756317 \\\\\n",
       "\t23 & RCP 8.5 & 1787-01-01 & CO2\\_RF & 0.0787033 \\\\\n",
       "\t24 & RCP 8.5 & 1788-01-01 & CO2\\_RF & 0.0818218 \\\\\n",
       "\t25 & RCP 8.5 & 1789-01-01 & CO2\\_RF & 0.0848899 \\\\\n",
       "\t26 & RCP 8.5 & 1790-01-01 & CO2\\_RF & 0.0878369 \\\\\n",
       "\t27 & RCP 8.5 & 1791-01-01 & CO2\\_RF & 0.090661 \\\\\n",
       "\t28 & RCP 8.5 & 1792-01-01 & CO2\\_RF & 0.0933979 \\\\\n",
       "\t29 & RCP 8.5 & 1793-01-01 & CO2\\_RF & 0.0960604 \\\\\n",
       "\t30 & RCP 8.5 & 1794-01-01 & CO2\\_RF & 0.0986421 \\\\\n",
       "\t$\\dots$ & $\\dots$ & $\\dots$ & $\\dots$ & $\\dots$ \\\\\n",
       "\\end{tabular}\n"
      ],
      "text/plain": [
       "2238×4 DataFrame\n",
       "│ Row  │ model          │ year       │ variable │ value     │\n",
       "│      │ \u001b[90mString\u001b[39m         │ \u001b[90mDate\u001b[39m       │ \u001b[90mAny\u001b[39m      │ \u001b[90mFloat64⍰\u001b[39m  │\n",
       "├──────┼────────────────┼────────────┼──────────┼───────────┤\n",
       "│ 1    │ RCP 8.5        │ 1765-01-01 │ CO2_RF   │ 0.0       │\n",
       "│ 2    │ RCP 8.5        │ 1766-01-01 │ CO2_RF   │ 0.0110491 │\n",
       "│ 3    │ RCP 8.5        │ 1767-01-01 │ CO2_RF   │ 0.023246  │\n",
       "│ 4    │ RCP 8.5        │ 1768-01-01 │ CO2_RF   │ 0.0256052 │\n",
       "│ 5    │ RCP 8.5        │ 1769-01-01 │ CO2_RF   │ 0.028057  │\n",
       "│ 6    │ RCP 8.5        │ 1770-01-01 │ CO2_RF   │ 0.0305529 │\n",
       "│ 7    │ RCP 8.5        │ 1771-01-01 │ CO2_RF   │ 0.0330936 │\n",
       "│ 8    │ RCP 8.5        │ 1772-01-01 │ CO2_RF   │ 0.0357058 │\n",
       "│ 9    │ RCP 8.5        │ 1773-01-01 │ CO2_RF   │ 0.0383971 │\n",
       "│ 10   │ RCP 8.5        │ 1774-01-01 │ CO2_RF   │ 0.0411609 │\n",
       "⋮\n",
       "│ 2228 │ Mimi-Page-2009 │ 2200-01-01 │ CH4_RF   │ 0.525522  │\n",
       "│ 2229 │ Mimi-Page-2009 │ 2009-01-01 │ N2O_RF   │ 0.182875  │\n",
       "│ 2230 │ Mimi-Page-2009 │ 2010-01-01 │ N2O_RF   │ 0.185724  │\n",
       "│ 2231 │ Mimi-Page-2009 │ 2020-01-01 │ N2O_RF   │ 0.213055  │\n",
       "│ 2232 │ Mimi-Page-2009 │ 2030-01-01 │ N2O_RF   │ 0.238614  │\n",
       "│ 2233 │ Mimi-Page-2009 │ 2040-01-01 │ N2O_RF   │ 0.262324  │\n",
       "│ 2234 │ Mimi-Page-2009 │ 2050-01-01 │ N2O_RF   │ 0.284015  │\n",
       "│ 2235 │ Mimi-Page-2009 │ 2075-01-01 │ N2O_RF   │ 0.328396  │\n",
       "│ 2236 │ Mimi-Page-2009 │ 2100-01-01 │ N2O_RF   │ 0.360964  │\n",
       "│ 2237 │ Mimi-Page-2009 │ 2150-01-01 │ N2O_RF   │ 0.405979  │\n",
       "│ 2238 │ Mimi-Page-2009 │ 2200-01-01 │ N2O_RF   │ 0.434518  │"
      ]
     },
     "execution_count": 3,
     "metadata": {},
     "output_type": "execute_result"
    }
   ],
   "source": [
    "# Load the RCP 8.5 radiative forcings (by gas)\n",
    "\n",
    "df_rcp = load(\"rcp85-radforcing.csv\", colnames=Dict(\"v YEARS/GAS >\" => \"year\")) |>\n",
    "    @map({_.year, _.CO2_RF, _.CH4_RF, _.N2O_RF}) |> \n",
    "    DataFrame\n",
    "\n",
    "\n",
    "df_rcp = stack(df_rcp, [:CO2_RF, :CH4_RF, :N2O_RF])\n",
    "df_rcp[:model] = \"RCP 8.5\"\n",
    "\n",
    "df_rcp = df_rcp |> @map({_.model, _.year, _.variable, _.value}) |> DataFrame\n",
    "\n",
    "df_page_co2 = getdataframe(m, :co2forcing, :f_CO2forcing) |>\n",
    "    @map({variable=\"CO2_RF\", value=_.f_CO2forcing, year=_.time, model=\"Mimi-Page-2009\"}) |>\n",
    "    DataFrame\n",
    "\n",
    "df_page_ch4 = getdataframe(m, :ch4forcing, :f_CH4forcing) |>\n",
    "    @map({variable=\"CH4_RF\", value=_.f_CH4forcing, year=_.time, model=\"Mimi-Page-2009\"}) |>\n",
    "    DataFrame\n",
    "\n",
    "df_page_n2o = getdataframe(m, :n2oforcing, :f_N2Oforcing) |>\n",
    "    @map({variable=\"N2O_RF\", value=_.f_N2Oforcing, year=_.time, model=\"Mimi-Page-2009\"}) |>\n",
    "    DataFrame\n",
    "\n",
    "df = vcat(df_rcp, df_page_co2, df_page_ch4, df_page_n2o)\n",
    "\n",
    "df[:year] = Date.(df[:year])\n",
    "df"
   ]
  },
  {
   "cell_type": "markdown",
   "metadata": {},
   "source": [
    "Here we produce a comparison dataframe, between `estimated` radiative forcings for CO2, N2O, and CH4, and those under RCP 8.5 (labeled by `rcp85`)."
   ]
  },
  {
   "cell_type": "code",
   "execution_count": 4,
   "metadata": {},
   "outputs": [
    {
     "data": {
      "application/vnd.vegalite.v2+json": {
       "data": {
        "values": [
         {
          "model": "RCP 8.5",
          "value": 1.5559009,
          "variable": "CO2_RF",
          "year": "2001-01-01"
         },
         {
          "model": "RCP 8.5",
          "value": 1.5854995,
          "variable": "CO2_RF",
          "year": "2002-01-01"
         },
         {
          "model": "RCP 8.5",
          "value": 1.6175545,
          "variable": "CO2_RF",
          "year": "2003-01-01"
         },
         {
          "model": "RCP 8.5",
          "value": 1.6467939,
          "variable": "CO2_RF",
          "year": "2004-01-01"
         },
         {
          "model": "RCP 8.5",
          "value": 1.675125,
          "variable": "CO2_RF",
          "year": "2005-01-01"
         },
         {
          "model": "RCP 8.5",
          "value": 1.7035227,
          "variable": "CO2_RF",
          "year": "2006-01-01"
         },
         {
          "model": "RCP 8.5",
          "value": 1.7308597,
          "variable": "CO2_RF",
          "year": "2007-01-01"
         },
         {
          "model": "RCP 8.5",
          "value": 1.7590634,
          "variable": "CO2_RF",
          "year": "2008-01-01"
         },
         {
          "model": "RCP 8.5",
          "value": 1.7897426,
          "variable": "CO2_RF",
          "year": "2009-01-01"
         },
         {
          "model": "RCP 8.5",
          "value": 1.821622,
          "variable": "CO2_RF",
          "year": "2010-01-01"
         },
         {
          "model": "RCP 8.5",
          "value": 1.8533382,
          "variable": "CO2_RF",
          "year": "2011-01-01"
         },
         {
          "model": "RCP 8.5",
          "value": 1.885638,
          "variable": "CO2_RF",
          "year": "2012-01-01"
         },
         {
          "model": "RCP 8.5",
          "value": 1.9188853,
          "variable": "CO2_RF",
          "year": "2013-01-01"
         },
         {
          "model": "RCP 8.5",
          "value": 1.9530678,
          "variable": "CO2_RF",
          "year": "2014-01-01"
         },
         {
          "model": "RCP 8.5",
          "value": 1.9881493,
          "variable": "CO2_RF",
          "year": "2015-01-01"
         },
         {
          "model": "RCP 8.5",
          "value": 2.0240135,
          "variable": "CO2_RF",
          "year": "2016-01-01"
         },
         {
          "model": "RCP 8.5",
          "value": 2.0605256,
          "variable": "CO2_RF",
          "year": "2017-01-01"
         },
         {
          "model": "RCP 8.5",
          "value": 2.0976187,
          "variable": "CO2_RF",
          "year": "2018-01-01"
         },
         {
          "model": "RCP 8.5",
          "value": 2.1352784,
          "variable": "CO2_RF",
          "year": "2019-01-01"
         },
         {
          "model": "RCP 8.5",
          "value": 2.1735014,
          "variable": "CO2_RF",
          "year": "2020-01-01"
         },
         {
          "model": "RCP 8.5",
          "value": 2.2121869,
          "variable": "CO2_RF",
          "year": "2021-01-01"
         },
         {
          "model": "RCP 8.5",
          "value": 2.2512548,
          "variable": "CO2_RF",
          "year": "2022-01-01"
         },
         {
          "model": "RCP 8.5",
          "value": 2.2908228,
          "variable": "CO2_RF",
          "year": "2023-01-01"
         },
         {
          "model": "RCP 8.5",
          "value": 2.3310047,
          "variable": "CO2_RF",
          "year": "2024-01-01"
         },
         {
          "model": "RCP 8.5",
          "value": 2.3718144,
          "variable": "CO2_RF",
          "year": "2025-01-01"
         },
         {
          "model": "RCP 8.5",
          "value": 2.4132271,
          "variable": "CO2_RF",
          "year": "2026-01-01"
         },
         {
          "model": "RCP 8.5",
          "value": 2.4551395,
          "variable": "CO2_RF",
          "year": "2027-01-01"
         },
         {
          "model": "RCP 8.5",
          "value": 2.4974276,
          "variable": "CO2_RF",
          "year": "2028-01-01"
         },
         {
          "model": "RCP 8.5",
          "value": 2.5400311,
          "variable": "CO2_RF",
          "year": "2029-01-01"
         },
         {
          "model": "RCP 8.5",
          "value": 2.5829415,
          "variable": "CO2_RF",
          "year": "2030-01-01"
         },
         {
          "model": "RCP 8.5",
          "value": 2.6261583,
          "variable": "CO2_RF",
          "year": "2031-01-01"
         },
         {
          "model": "RCP 8.5",
          "value": 2.6697873,
          "variable": "CO2_RF",
          "year": "2032-01-01"
         },
         {
          "model": "RCP 8.5",
          "value": 2.7140357,
          "variable": "CO2_RF",
          "year": "2033-01-01"
         },
         {
          "model": "RCP 8.5",
          "value": 2.7590846,
          "variable": "CO2_RF",
          "year": "2034-01-01"
         },
         {
          "model": "RCP 8.5",
          "value": 2.8050206,
          "variable": "CO2_RF",
          "year": "2035-01-01"
         },
         {
          "model": "RCP 8.5",
          "value": 2.8518385,
          "variable": "CO2_RF",
          "year": "2036-01-01"
         },
         {
          "model": "RCP 8.5",
          "value": 2.8995034,
          "variable": "CO2_RF",
          "year": "2037-01-01"
         },
         {
          "model": "RCP 8.5",
          "value": 2.9479034,
          "variable": "CO2_RF",
          "year": "2038-01-01"
         },
         {
          "model": "RCP 8.5",
          "value": 2.9969033,
          "variable": "CO2_RF",
          "year": "2039-01-01"
         },
         {
          "model": "RCP 8.5",
          "value": 3.0464317,
          "variable": "CO2_RF",
          "year": "2040-01-01"
         },
         {
          "model": "RCP 8.5",
          "value": 3.0964671,
          "variable": "CO2_RF",
          "year": "2041-01-01"
         },
         {
          "model": "RCP 8.5",
          "value": 3.1471165,
          "variable": "CO2_RF",
          "year": "2042-01-01"
         },
         {
          "model": "RCP 8.5",
          "value": 3.1983817,
          "variable": "CO2_RF",
          "year": "2043-01-01"
         },
         {
          "model": "RCP 8.5",
          "value": 3.2502464,
          "variable": "CO2_RF",
          "year": "2044-01-01"
         },
         {
          "model": "RCP 8.5",
          "value": 3.3028683,
          "variable": "CO2_RF",
          "year": "2045-01-01"
         },
         {
          "model": "RCP 8.5",
          "value": 3.3563298,
          "variable": "CO2_RF",
          "year": "2046-01-01"
         },
         {
          "model": "RCP 8.5",
          "value": 3.4106416,
          "variable": "CO2_RF",
          "year": "2047-01-01"
         },
         {
          "model": "RCP 8.5",
          "value": 3.4657699,
          "variable": "CO2_RF",
          "year": "2048-01-01"
         },
         {
          "model": "RCP 8.5",
          "value": 3.5216066,
          "variable": "CO2_RF",
          "year": "2049-01-01"
         },
         {
          "model": "RCP 8.5",
          "value": 3.5780214,
          "variable": "CO2_RF",
          "year": "2050-01-01"
         },
         {
          "model": "RCP 8.5",
          "value": 3.6349415,
          "variable": "CO2_RF",
          "year": "2051-01-01"
         },
         {
          "model": "RCP 8.5",
          "value": 3.6923356,
          "variable": "CO2_RF",
          "year": "2052-01-01"
         },
         {
          "model": "RCP 8.5",
          "value": 3.7501795,
          "variable": "CO2_RF",
          "year": "2053-01-01"
         },
         {
          "model": "RCP 8.5",
          "value": 3.80836,
          "variable": "CO2_RF",
          "year": "2054-01-01"
         },
         {
          "model": "RCP 8.5",
          "value": 3.8668774,
          "variable": "CO2_RF",
          "year": "2055-01-01"
         },
         {
          "model": "RCP 8.5",
          "value": 3.9259045,
          "variable": "CO2_RF",
          "year": "2056-01-01"
         },
         {
          "model": "RCP 8.5",
          "value": 3.9855223,
          "variable": "CO2_RF",
          "year": "2057-01-01"
         },
         {
          "model": "RCP 8.5",
          "value": 4.0457482,
          "variable": "CO2_RF",
          "year": "2058-01-01"
         },
         {
          "model": "RCP 8.5",
          "value": 4.1065645,
          "variable": "CO2_RF",
          "year": "2059-01-01"
         },
         {
          "model": "RCP 8.5",
          "value": 4.1678751,
          "variable": "CO2_RF",
          "year": "2060-01-01"
         },
         {
          "model": "RCP 8.5",
          "value": 4.2295627,
          "variable": "CO2_RF",
          "year": "2061-01-01"
         },
         {
          "model": "RCP 8.5",
          "value": 4.2913522,
          "variable": "CO2_RF",
          "year": "2062-01-01"
         },
         {
          "model": "RCP 8.5",
          "value": 4.3530331,
          "variable": "CO2_RF",
          "year": "2063-01-01"
         },
         {
          "model": "RCP 8.5",
          "value": 4.4146265,
          "variable": "CO2_RF",
          "year": "2064-01-01"
         },
         {
          "model": "RCP 8.5",
          "value": 4.4760619,
          "variable": "CO2_RF",
          "year": "2065-01-01"
         },
         {
          "model": "RCP 8.5",
          "value": 4.5373493,
          "variable": "CO2_RF",
          "year": "2066-01-01"
         },
         {
          "model": "RCP 8.5",
          "value": 4.5986256,
          "variable": "CO2_RF",
          "year": "2067-01-01"
         },
         {
          "model": "RCP 8.5",
          "value": 4.6600234,
          "variable": "CO2_RF",
          "year": "2068-01-01"
         },
         {
          "model": "RCP 8.5",
          "value": 4.7216313,
          "variable": "CO2_RF",
          "year": "2069-01-01"
         },
         {
          "model": "RCP 8.5",
          "value": 4.783432,
          "variable": "CO2_RF",
          "year": "2070-01-01"
         },
         {
          "model": "RCP 8.5",
          "value": 4.8453387,
          "variable": "CO2_RF",
          "year": "2071-01-01"
         },
         {
          "model": "RCP 8.5",
          "value": 4.9070872,
          "variable": "CO2_RF",
          "year": "2072-01-01"
         },
         {
          "model": "RCP 8.5",
          "value": 4.9684716,
          "variable": "CO2_RF",
          "year": "2073-01-01"
         },
         {
          "model": "RCP 8.5",
          "value": 5.0295014,
          "variable": "CO2_RF",
          "year": "2074-01-01"
         },
         {
          "model": "RCP 8.5",
          "value": 5.0901899,
          "variable": "CO2_RF",
          "year": "2075-01-01"
         },
         {
          "model": "RCP 8.5",
          "value": 5.1504687,
          "variable": "CO2_RF",
          "year": "2076-01-01"
         },
         {
          "model": "RCP 8.5",
          "value": 5.2104416,
          "variable": "CO2_RF",
          "year": "2077-01-01"
         },
         {
          "model": "RCP 8.5",
          "value": 5.2700855,
          "variable": "CO2_RF",
          "year": "2078-01-01"
         },
         {
          "model": "RCP 8.5",
          "value": 5.3295268,
          "variable": "CO2_RF",
          "year": "2079-01-01"
         },
         {
          "model": "RCP 8.5",
          "value": 5.3889983,
          "variable": "CO2_RF",
          "year": "2080-01-01"
         },
         {
          "model": "RCP 8.5",
          "value": 5.4484066,
          "variable": "CO2_RF",
          "year": "2081-01-01"
         },
         {
          "model": "RCP 8.5",
          "value": 5.5076312,
          "variable": "CO2_RF",
          "year": "2082-01-01"
         },
         {
          "model": "RCP 8.5",
          "value": 5.5665288,
          "variable": "CO2_RF",
          "year": "2083-01-01"
         },
         {
          "model": "RCP 8.5",
          "value": 5.6250383,
          "variable": "CO2_RF",
          "year": "2084-01-01"
         },
         {
          "model": "RCP 8.5",
          "value": 5.6831731,
          "variable": "CO2_RF",
          "year": "2085-01-01"
         },
         {
          "model": "RCP 8.5",
          "value": 5.7409665,
          "variable": "CO2_RF",
          "year": "2086-01-01"
         },
         {
          "model": "RCP 8.5",
          "value": 5.7982197,
          "variable": "CO2_RF",
          "year": "2087-01-01"
         },
         {
          "model": "RCP 8.5",
          "value": 5.8550437,
          "variable": "CO2_RF",
          "year": "2088-01-01"
         },
         {
          "model": "RCP 8.5",
          "value": 5.9116789,
          "variable": "CO2_RF",
          "year": "2089-01-01"
         },
         {
          "model": "RCP 8.5",
          "value": 5.9680382,
          "variable": "CO2_RF",
          "year": "2090-01-01"
         },
         {
          "model": "RCP 8.5",
          "value": 6.02426,
          "variable": "CO2_RF",
          "year": "2091-01-01"
         },
         {
          "model": "RCP 8.5",
          "value": 6.0803942,
          "variable": "CO2_RF",
          "year": "2092-01-01"
         },
         {
          "model": "RCP 8.5",
          "value": 6.1362544,
          "variable": "CO2_RF",
          "year": "2093-01-01"
         },
         {
          "model": "RCP 8.5",
          "value": 6.1917609,
          "variable": "CO2_RF",
          "year": "2094-01-01"
         },
         {
          "model": "RCP 8.5",
          "value": 6.2468765,
          "variable": "CO2_RF",
          "year": "2095-01-01"
         },
         {
          "model": "RCP 8.5",
          "value": 6.3015802,
          "variable": "CO2_RF",
          "year": "2096-01-01"
         },
         {
          "model": "RCP 8.5",
          "value": 6.3558614,
          "variable": "CO2_RF",
          "year": "2097-01-01"
         },
         {
          "model": "RCP 8.5",
          "value": 6.4097028,
          "variable": "CO2_RF",
          "year": "2098-01-01"
         },
         {
          "model": "RCP 8.5",
          "value": 6.4630729,
          "variable": "CO2_RF",
          "year": "2099-01-01"
         },
         {
          "model": "RCP 8.5",
          "value": 6.5160029,
          "variable": "CO2_RF",
          "year": "2100-01-01"
         },
         {
          "model": "RCP 8.5",
          "value": 6.5686894,
          "variable": "CO2_RF",
          "year": "2101-01-01"
         },
         {
          "model": "RCP 8.5",
          "value": 6.6212902,
          "variable": "CO2_RF",
          "year": "2102-01-01"
         },
         {
          "model": "RCP 8.5",
          "value": 6.6735957,
          "variable": "CO2_RF",
          "year": "2103-01-01"
         },
         {
          "model": "RCP 8.5",
          "value": 6.725553,
          "variable": "CO2_RF",
          "year": "2104-01-01"
         },
         {
          "model": "RCP 8.5",
          "value": 6.7772173,
          "variable": "CO2_RF",
          "year": "2105-01-01"
         },
         {
          "model": "RCP 8.5",
          "value": 6.8285113,
          "variable": "CO2_RF",
          "year": "2106-01-01"
         },
         {
          "model": "RCP 8.5",
          "value": 6.879456,
          "variable": "CO2_RF",
          "year": "2107-01-01"
         },
         {
          "model": "RCP 8.5",
          "value": 6.9299196,
          "variable": "CO2_RF",
          "year": "2108-01-01"
         },
         {
          "model": "RCP 8.5",
          "value": 6.9799188,
          "variable": "CO2_RF",
          "year": "2109-01-01"
         },
         {
          "model": "RCP 8.5",
          "value": 7.0294685,
          "variable": "CO2_RF",
          "year": "2110-01-01"
         },
         {
          "model": "RCP 8.5",
          "value": 7.0785474,
          "variable": "CO2_RF",
          "year": "2111-01-01"
         },
         {
          "model": "RCP 8.5",
          "value": 7.1274107,
          "variable": "CO2_RF",
          "year": "2112-01-01"
         },
         {
          "model": "RCP 8.5",
          "value": 7.1760494,
          "variable": "CO2_RF",
          "year": "2113-01-01"
         },
         {
          "model": "RCP 8.5",
          "value": 7.2244717,
          "variable": "CO2_RF",
          "year": "2114-01-01"
         },
         {
          "model": "RCP 8.5",
          "value": 7.2727415,
          "variable": "CO2_RF",
          "year": "2115-01-01"
         },
         {
          "model": "RCP 8.5",
          "value": 7.3206906,
          "variable": "CO2_RF",
          "year": "2116-01-01"
         },
         {
          "model": "RCP 8.5",
          "value": 7.3683597,
          "variable": "CO2_RF",
          "year": "2117-01-01"
         },
         {
          "model": "RCP 8.5",
          "value": 7.4156853,
          "variable": "CO2_RF",
          "year": "2118-01-01"
         },
         {
          "model": "RCP 8.5",
          "value": 7.4625457,
          "variable": "CO2_RF",
          "year": "2119-01-01"
         },
         {
          "model": "RCP 8.5",
          "value": 7.5090525,
          "variable": "CO2_RF",
          "year": "2120-01-01"
         },
         {
          "model": "RCP 8.5",
          "value": 7.5551376,
          "variable": "CO2_RF",
          "year": "2121-01-01"
         },
         {
          "model": "RCP 8.5",
          "value": 7.6007844,
          "variable": "CO2_RF",
          "year": "2122-01-01"
         },
         {
          "model": "RCP 8.5",
          "value": 7.6462257,
          "variable": "CO2_RF",
          "year": "2123-01-01"
         },
         {
          "model": "RCP 8.5",
          "value": 7.6915683,
          "variable": "CO2_RF",
          "year": "2124-01-01"
         },
         {
          "model": "RCP 8.5",
          "value": 7.7367294,
          "variable": "CO2_RF",
          "year": "2125-01-01"
         },
         {
          "model": "RCP 8.5",
          "value": 7.7816681,
          "variable": "CO2_RF",
          "year": "2126-01-01"
         },
         {
          "model": "RCP 8.5",
          "value": 7.82642,
          "variable": "CO2_RF",
          "year": "2127-01-01"
         },
         {
          "model": "RCP 8.5",
          "value": 7.8709787,
          "variable": "CO2_RF",
          "year": "2128-01-01"
         },
         {
          "model": "RCP 8.5",
          "value": 7.9151488,
          "variable": "CO2_RF",
          "year": "2129-01-01"
         },
         {
          "model": "RCP 8.5",
          "value": 7.9589474,
          "variable": "CO2_RF",
          "year": "2130-01-01"
         },
         {
          "model": "RCP 8.5",
          "value": 8.0024321,
          "variable": "CO2_RF",
          "year": "2131-01-01"
         },
         {
          "model": "RCP 8.5",
          "value": 8.0454518,
          "variable": "CO2_RF",
          "year": "2132-01-01"
         },
         {
          "model": "RCP 8.5",
          "value": 8.0881633,
          "variable": "CO2_RF",
          "year": "2133-01-01"
         },
         {
          "model": "RCP 8.5",
          "value": 8.1307319,
          "variable": "CO2_RF",
          "year": "2134-01-01"
         },
         {
          "model": "RCP 8.5",
          "value": 8.1731285,
          "variable": "CO2_RF",
          "year": "2135-01-01"
         },
         {
          "model": "RCP 8.5",
          "value": 8.2153868,
          "variable": "CO2_RF",
          "year": "2136-01-01"
         },
         {
          "model": "RCP 8.5",
          "value": 8.2575571,
          "variable": "CO2_RF",
          "year": "2137-01-01"
         },
         {
          "model": "RCP 8.5",
          "value": 8.2995232,
          "variable": "CO2_RF",
          "year": "2138-01-01"
         },
         {
          "model": "RCP 8.5",
          "value": 8.3411989,
          "variable": "CO2_RF",
          "year": "2139-01-01"
         },
         {
          "model": "RCP 8.5",
          "value": 8.3826114,
          "variable": "CO2_RF",
          "year": "2140-01-01"
         },
         {
          "model": "RCP 8.5",
          "value": 8.4237532,
          "variable": "CO2_RF",
          "year": "2141-01-01"
         },
         {
          "model": "RCP 8.5",
          "value": 8.4645674,
          "variable": "CO2_RF",
          "year": "2142-01-01"
         },
         {
          "model": "RCP 8.5",
          "value": 8.5050026,
          "variable": "CO2_RF",
          "year": "2143-01-01"
         },
         {
          "model": "RCP 8.5",
          "value": 8.5451097,
          "variable": "CO2_RF",
          "year": "2144-01-01"
         },
         {
          "model": "RCP 8.5",
          "value": 8.5850075,
          "variable": "CO2_RF",
          "year": "2145-01-01"
         },
         {
          "model": "RCP 8.5",
          "value": 8.6248156,
          "variable": "CO2_RF",
          "year": "2146-01-01"
         },
         {
          "model": "RCP 8.5",
          "value": 8.6645648,
          "variable": "CO2_RF",
          "year": "2147-01-01"
         },
         {
          "model": "RCP 8.5",
          "value": 8.7041744,
          "variable": "CO2_RF",
          "year": "2148-01-01"
         },
         {
          "model": "RCP 8.5",
          "value": 8.7436402,
          "variable": "CO2_RF",
          "year": "2149-01-01"
         },
         {
          "model": "RCP 8.5",
          "value": 8.7829155,
          "variable": "CO2_RF",
          "year": "2150-01-01"
         },
         {
          "model": "RCP 8.5",
          "value": 8.8218612,
          "variable": "CO2_RF",
          "year": "2151-01-01"
         },
         {
          "model": "RCP 8.5",
          "value": 8.8602943,
          "variable": "CO2_RF",
          "year": "2152-01-01"
         },
         {
          "model": "RCP 8.5",
          "value": 8.8980595,
          "variable": "CO2_RF",
          "year": "2153-01-01"
         },
         {
          "model": "RCP 8.5",
          "value": 8.9349932,
          "variable": "CO2_RF",
          "year": "2154-01-01"
         },
         {
          "model": "RCP 8.5",
          "value": 8.9711403,
          "variable": "CO2_RF",
          "year": "2155-01-01"
         },
         {
          "model": "RCP 8.5",
          "value": 9.0068072,
          "variable": "CO2_RF",
          "year": "2156-01-01"
         },
         {
          "model": "RCP 8.5",
          "value": 9.0420434,
          "variable": "CO2_RF",
          "year": "2157-01-01"
         },
         {
          "model": "RCP 8.5",
          "value": 9.0767433,
          "variable": "CO2_RF",
          "year": "2158-01-01"
         },
         {
          "model": "RCP 8.5",
          "value": 9.1109311,
          "variable": "CO2_RF",
          "year": "2159-01-01"
         },
         {
          "model": "RCP 8.5",
          "value": 9.1446166,
          "variable": "CO2_RF",
          "year": "2160-01-01"
         },
         {
          "model": "RCP 8.5",
          "value": 9.1777623,
          "variable": "CO2_RF",
          "year": "2161-01-01"
         },
         {
          "model": "RCP 8.5",
          "value": 9.2103383,
          "variable": "CO2_RF",
          "year": "2162-01-01"
         },
         {
          "model": "RCP 8.5",
          "value": 9.2423292,
          "variable": "CO2_RF",
          "year": "2163-01-01"
         },
         {
          "model": "RCP 8.5",
          "value": 9.2737893,
          "variable": "CO2_RF",
          "year": "2164-01-01"
         },
         {
          "model": "RCP 8.5",
          "value": 9.3045366,
          "variable": "CO2_RF",
          "year": "2165-01-01"
         },
         {
          "model": "RCP 8.5",
          "value": 9.3345822,
          "variable": "CO2_RF",
          "year": "2166-01-01"
         },
         {
          "model": "RCP 8.5",
          "value": 9.3642581,
          "variable": "CO2_RF",
          "year": "2167-01-01"
         },
         {
          "model": "RCP 8.5",
          "value": 9.3935886,
          "variable": "CO2_RF",
          "year": "2168-01-01"
         },
         {
          "model": "RCP 8.5",
          "value": 9.4225049,
          "variable": "CO2_RF",
          "year": "2169-01-01"
         },
         {
          "model": "RCP 8.5",
          "value": 9.4509909,
          "variable": "CO2_RF",
          "year": "2170-01-01"
         },
         {
          "model": "RCP 8.5",
          "value": 9.4790427,
          "variable": "CO2_RF",
          "year": "2171-01-01"
         },
         {
          "model": "RCP 8.5",
          "value": 9.5066362,
          "variable": "CO2_RF",
          "year": "2172-01-01"
         },
         {
          "model": "RCP 8.5",
          "value": 9.5337563,
          "variable": "CO2_RF",
          "year": "2173-01-01"
         },
         {
          "model": "RCP 8.5",
          "value": 9.5604017,
          "variable": "CO2_RF",
          "year": "2174-01-01"
         },
         {
          "model": "RCP 8.5",
          "value": 9.5865205,
          "variable": "CO2_RF",
          "year": "2175-01-01"
         },
         {
          "model": "RCP 8.5",
          "value": 9.6119961,
          "variable": "CO2_RF",
          "year": "2176-01-01"
         },
         {
          "model": "RCP 8.5",
          "value": 9.6368833,
          "variable": "CO2_RF",
          "year": "2177-01-01"
         },
         {
          "model": "RCP 8.5",
          "value": 9.6614046,
          "variable": "CO2_RF",
          "year": "2178-01-01"
         },
         {
          "model": "RCP 8.5",
          "value": 9.6856202,
          "variable": "CO2_RF",
          "year": "2179-01-01"
         },
         {
          "model": "RCP 8.5",
          "value": 9.7095102,
          "variable": "CO2_RF",
          "year": "2180-01-01"
         },
         {
          "model": "RCP 8.5",
          "value": 9.7330781,
          "variable": "CO2_RF",
          "year": "2181-01-01"
         },
         {
          "model": "RCP 8.5",
          "value": 9.7562708,
          "variable": "CO2_RF",
          "year": "2182-01-01"
         },
         {
          "model": "RCP 8.5",
          "value": 9.7790706,
          "variable": "CO2_RF",
          "year": "2183-01-01"
         },
         {
          "model": "RCP 8.5",
          "value": 9.8014465,
          "variable": "CO2_RF",
          "year": "2184-01-01"
         },
         {
          "model": "RCP 8.5",
          "value": 9.8233025,
          "variable": "CO2_RF",
          "year": "2185-01-01"
         },
         {
          "model": "RCP 8.5",
          "value": 9.8446793,
          "variable": "CO2_RF",
          "year": "2186-01-01"
         },
         {
          "model": "RCP 8.5",
          "value": 9.8655411,
          "variable": "CO2_RF",
          "year": "2187-01-01"
         },
         {
          "model": "RCP 8.5",
          "value": 9.8858665,
          "variable": "CO2_RF",
          "year": "2188-01-01"
         },
         {
          "model": "RCP 8.5",
          "value": 9.9058265,
          "variable": "CO2_RF",
          "year": "2189-01-01"
         },
         {
          "model": "RCP 8.5",
          "value": 9.9255089,
          "variable": "CO2_RF",
          "year": "2190-01-01"
         },
         {
          "model": "RCP 8.5",
          "value": 9.9449228,
          "variable": "CO2_RF",
          "year": "2191-01-01"
         },
         {
          "model": "RCP 8.5",
          "value": 9.964045,
          "variable": "CO2_RF",
          "year": "2192-01-01"
         },
         {
          "model": "RCP 8.5",
          "value": 9.9828425,
          "variable": "CO2_RF",
          "year": "2193-01-01"
         },
         {
          "model": "RCP 8.5",
          "value": 10.001251,
          "variable": "CO2_RF",
          "year": "2194-01-01"
         },
         {
          "model": "RCP 8.5",
          "value": 10.019232,
          "variable": "CO2_RF",
          "year": "2195-01-01"
         },
         {
          "model": "RCP 8.5",
          "value": 10.036839,
          "variable": "CO2_RF",
          "year": "2196-01-01"
         },
         {
          "model": "RCP 8.5",
          "value": 10.053955,
          "variable": "CO2_RF",
          "year": "2197-01-01"
         },
         {
          "model": "RCP 8.5",
          "value": 10.070532,
          "variable": "CO2_RF",
          "year": "2198-01-01"
         },
         {
          "model": "RCP 8.5",
          "value": 10.086721,
          "variable": "CO2_RF",
          "year": "2199-01-01"
         },
         {
          "model": "RCP 8.5",
          "value": 10.102564,
          "variable": "CO2_RF",
          "year": "2200-01-01"
         },
         {
          "model": "RCP 8.5",
          "value": 0.4792313,
          "variable": "CH4_RF",
          "year": "2001-01-01"
         },
         {
          "model": "RCP 8.5",
          "value": 0.47978539,
          "variable": "CH4_RF",
          "year": "2002-01-01"
         },
         {
          "model": "RCP 8.5",
          "value": 0.48074821,
          "variable": "CH4_RF",
          "year": "2003-01-01"
         },
         {
          "model": "RCP 8.5",
          "value": 0.48086234,
          "variable": "CH4_RF",
          "year": "2004-01-01"
         },
         {
          "model": "RCP 8.5",
          "value": 0.48036474,
          "variable": "CH4_RF",
          "year": "2005-01-01"
         },
         {
          "model": "RCP 8.5",
          "value": 0.48065541,
          "variable": "CH4_RF",
          "year": "2006-01-01"
         },
         {
          "model": "RCP 8.5",
          "value": 0.48197675,
          "variable": "CH4_RF",
          "year": "2007-01-01"
         },
         {
          "model": "RCP 8.5",
          "value": 0.48398319,
          "variable": "CH4_RF",
          "year": "2008-01-01"
         },
         {
          "model": "RCP 8.5",
          "value": 0.48660099,
          "variable": "CH4_RF",
          "year": "2009-01-01"
         },
         {
          "model": "RCP 8.5",
          "value": 0.48966278,
          "variable": "CH4_RF",
          "year": "2010-01-01"
         },
         {
          "model": "RCP 8.5",
          "value": 0.49313234,
          "variable": "CH4_RF",
          "year": "2011-01-01"
         },
         {
          "model": "RCP 8.5",
          "value": 0.49704825,
          "variable": "CH4_RF",
          "year": "2012-01-01"
         },
         {
          "model": "RCP 8.5",
          "value": 0.50143706,
          "variable": "CH4_RF",
          "year": "2013-01-01"
         },
         {
          "model": "RCP 8.5",
          "value": 0.50626431,
          "variable": "CH4_RF",
          "year": "2014-01-01"
         },
         {
          "model": "RCP 8.5",
          "value": 0.51150171,
          "variable": "CH4_RF",
          "year": "2015-01-01"
         },
         {
          "model": "RCP 8.5",
          "value": 0.51711044,
          "variable": "CH4_RF",
          "year": "2016-01-01"
         },
         {
          "model": "RCP 8.5",
          "value": 0.52304484,
          "variable": "CH4_RF",
          "year": "2017-01-01"
         },
         {
          "model": "RCP 8.5",
          "value": 0.52926581,
          "variable": "CH4_RF",
          "year": "2018-01-01"
         },
         {
          "model": "RCP 8.5",
          "value": 0.53574053,
          "variable": "CH4_RF",
          "year": "2019-01-01"
         },
         {
          "model": "RCP 8.5",
          "value": 0.54243872,
          "variable": "CH4_RF",
          "year": "2020-01-01"
         },
         {
          "model": "RCP 8.5",
          "value": 0.54930553,
          "variable": "CH4_RF",
          "year": "2021-01-01"
         },
         {
          "model": "RCP 8.5",
          "value": 0.55627484,
          "variable": "CH4_RF",
          "year": "2022-01-01"
         },
         {
          "model": "RCP 8.5",
          "value": 0.56332393,
          "variable": "CH4_RF",
          "year": "2023-01-01"
         },
         {
          "model": "RCP 8.5",
          "value": 0.57045553,
          "variable": "CH4_RF",
          "year": "2024-01-01"
         },
         {
          "model": "RCP 8.5",
          "value": 0.57767104,
          "variable": "CH4_RF",
          "year": "2025-01-01"
         },
         {
          "model": "RCP 8.5",
          "value": 0.58497465,
          "variable": "CH4_RF",
          "year": "2026-01-01"
         },
         {
          "model": "RCP 8.5",
          "value": 0.59235682,
          "variable": "CH4_RF",
          "year": "2027-01-01"
         },
         {
          "model": "RCP 8.5",
          "value": 0.59979822,
          "variable": "CH4_RF",
          "year": "2028-01-01"
         },
         {
          "model": "RCP 8.5",
          "value": 0.60728403,
          "variable": "CH4_RF",
          "year": "2029-01-01"
         },
         {
          "model": "RCP 8.5",
          "value": 0.61480394,
          "variable": "CH4_RF",
          "year": "2030-01-01"
         },
         {
          "model": "RCP 8.5",
          "value": 0.62234742,
          "variable": "CH4_RF",
          "year": "2031-01-01"
         },
         {
          "model": "RCP 8.5",
          "value": 0.63007446,
          "variable": "CH4_RF",
          "year": "2032-01-01"
         },
         {
          "model": "RCP 8.5",
          "value": 0.63814168,
          "variable": "CH4_RF",
          "year": "2033-01-01"
         },
         {
          "model": "RCP 8.5",
          "value": 0.64653114,
          "variable": "CH4_RF",
          "year": "2034-01-01"
         },
         {
          "model": "RCP 8.5",
          "value": 0.65522251,
          "variable": "CH4_RF",
          "year": "2035-01-01"
         },
         {
          "model": "RCP 8.5",
          "value": 0.66419646,
          "variable": "CH4_RF",
          "year": "2036-01-01"
         },
         {
          "model": "RCP 8.5",
          "value": 0.67343861,
          "variable": "CH4_RF",
          "year": "2037-01-01"
         },
         {
          "model": "RCP 8.5",
          "value": 0.6829216,
          "variable": "CH4_RF",
          "year": "2038-01-01"
         },
         {
          "model": "RCP 8.5",
          "value": 0.69260899,
          "variable": "CH4_RF",
          "year": "2039-01-01"
         },
         {
          "model": "RCP 8.5",
          "value": 0.7024705,
          "variable": "CH4_RF",
          "year": "2040-01-01"
         },
         {
          "model": "RCP 8.5",
          "value": 0.71248233,
          "variable": "CH4_RF",
          "year": "2041-01-01"
         },
         {
          "model": "RCP 8.5",
          "value": 0.72264463,
          "variable": "CH4_RF",
          "year": "2042-01-01"
         },
         {
          "model": "RCP 8.5",
          "value": 0.73292592,
          "variable": "CH4_RF",
          "year": "2043-01-01"
         },
         {
          "model": "RCP 8.5",
          "value": 0.74328614,
          "variable": "CH4_RF",
          "year": "2044-01-01"
         },
         {
          "model": "RCP 8.5",
          "value": 0.75373085,
          "variable": "CH4_RF",
          "year": "2045-01-01"
         },
         {
          "model": "RCP 8.5",
          "value": 0.76426205,
          "variable": "CH4_RF",
          "year": "2046-01-01"
         },
         {
          "model": "RCP 8.5",
          "value": 0.7748808,
          "variable": "CH4_RF",
          "year": "2047-01-01"
         },
         {
          "model": "RCP 8.5",
          "value": 0.78559147,
          "variable": "CH4_RF",
          "year": "2048-01-01"
         },
         {
          "model": "RCP 8.5",
          "value": 0.79638269,
          "variable": "CH4_RF",
          "year": "2049-01-01"
         },
         {
          "model": "RCP 8.5",
          "value": 0.80723136,
          "variable": "CH4_RF",
          "year": "2050-01-01"
         },
         {
          "model": "RCP 8.5",
          "value": 0.81812047,
          "variable": "CH4_RF",
          "year": "2051-01-01"
         },
         {
          "model": "RCP 8.5",
          "value": 0.82885883,
          "variable": "CH4_RF",
          "year": "2052-01-01"
         },
         {
          "model": "RCP 8.5",
          "value": 0.83927214,
          "variable": "CH4_RF",
          "year": "2053-01-01"
         },
         {
          "model": "RCP 8.5",
          "value": 0.84934866,
          "variable": "CH4_RF",
          "year": "2054-01-01"
         },
         {
          "model": "RCP 8.5",
          "value": 0.85908905,
          "variable": "CH4_RF",
          "year": "2055-01-01"
         },
         {
          "model": "RCP 8.5",
          "value": 0.86853949,
          "variable": "CH4_RF",
          "year": "2056-01-01"
         },
         {
          "model": "RCP 8.5",
          "value": 0.87773924,
          "variable": "CH4_RF",
          "year": "2057-01-01"
         },
         {
          "model": "RCP 8.5",
          "value": 0.88672301,
          "variable": "CH4_RF",
          "year": "2058-01-01"
         },
         {
          "model": "RCP 8.5",
          "value": 0.89552604,
          "variable": "CH4_RF",
          "year": "2059-01-01"
         },
         {
          "model": "RCP 8.5",
          "value": 0.90416376,
          "variable": "CH4_RF",
          "year": "2060-01-01"
         },
         {
          "model": "RCP 8.5",
          "value": 0.91263655,
          "variable": "CH4_RF",
          "year": "2061-01-01"
         },
         {
          "model": "RCP 8.5",
          "value": 0.92079151,
          "variable": "CH4_RF",
          "year": "2062-01-01"
         },
         {
          "model": "RCP 8.5",
          "value": 0.92849364,
          "variable": "CH4_RF",
          "year": "2063-01-01"
         },
         {
          "model": "RCP 8.5",
          "value": 0.93577699,
          "variable": "CH4_RF",
          "year": "2064-01-01"
         },
         {
          "model": "RCP 8.5",
          "value": 0.94263696,
          "variable": "CH4_RF",
          "year": "2065-01-01"
         },
         {
          "model": "RCP 8.5",
          "value": 0.94908086,
          "variable": "CH4_RF",
          "year": "2066-01-01"
         },
         {
          "model": "RCP 8.5",
          "value": 0.9551644,
          "variable": "CH4_RF",
          "year": "2067-01-01"
         },
         {
          "model": "RCP 8.5",
          "value": 0.96093611,
          "variable": "CH4_RF",
          "year": "2068-01-01"
         },
         {
          "model": "RCP 8.5",
          "value": 0.96643897,
          "variable": "CH4_RF",
          "year": "2069-01-01"
         },
         {
          "model": "RCP 8.5",
          "value": 0.97171588,
          "variable": "CH4_RF",
          "year": "2070-01-01"
         },
         {
          "model": "RCP 8.5",
          "value": 0.97678856,
          "variable": "CH4_RF",
          "year": "2071-01-01"
         },
         {
          "model": "RCP 8.5",
          "value": 0.98169322,
          "variable": "CH4_RF",
          "year": "2072-01-01"
         },
         {
          "model": "RCP 8.5",
          "value": 0.98646602,
          "variable": "CH4_RF",
          "year": "2073-01-01"
         },
         {
          "model": "RCP 8.5",
          "value": 0.9911134,
          "variable": "CH4_RF",
          "year": "2074-01-01"
         },
         {
          "model": "RCP 8.5",
          "value": 0.99564168,
          "variable": "CH4_RF",
          "year": "2075-01-01"
         },
         {
          "model": "RCP 8.5",
          "value": 1.0000195,
          "variable": "CH4_RF",
          "year": "2076-01-01"
         },
         {
          "model": "RCP 8.5",
          "value": 1.0042299,
          "variable": "CH4_RF",
          "year": "2077-01-01"
         },
         {
          "model": "RCP 8.5",
          "value": 1.0083088,
          "variable": "CH4_RF",
          "year": "2078-01-01"
         },
         {
          "model": "RCP 8.5",
          "value": 1.0122875,
          "variable": "CH4_RF",
          "year": "2079-01-01"
         },
         {
          "model": "RCP 8.5",
          "value": 1.0161931,
          "variable": "CH4_RF",
          "year": "2080-01-01"
         },
         {
          "model": "RCP 8.5",
          "value": 1.0200526,
          "variable": "CH4_RF",
          "year": "2081-01-01"
         },
         {
          "model": "RCP 8.5",
          "value": 1.0239124,
          "variable": "CH4_RF",
          "year": "2082-01-01"
         },
         {
          "model": "RCP 8.5",
          "value": 1.0277998,
          "variable": "CH4_RF",
          "year": "2083-01-01"
         },
         {
          "model": "RCP 8.5",
          "value": 1.0317032,
          "variable": "CH4_RF",
          "year": "2084-01-01"
         },
         {
          "model": "RCP 8.5",
          "value": 1.0356166,
          "variable": "CH4_RF",
          "year": "2085-01-01"
         },
         {
          "model": "RCP 8.5",
          "value": 1.0395349,
          "variable": "CH4_RF",
          "year": "2086-01-01"
         },
         {
          "model": "RCP 8.5",
          "value": 1.043415,
          "variable": "CH4_RF",
          "year": "2087-01-01"
         },
         {
          "model": "RCP 8.5",
          "value": 1.047229,
          "variable": "CH4_RF",
          "year": "2088-01-01"
         },
         {
          "model": "RCP 8.5",
          "value": 1.0510053,
          "variable": "CH4_RF",
          "year": "2089-01-01"
         },
         {
          "model": "RCP 8.5",
          "value": 1.0547683,
          "variable": "CH4_RF",
          "year": "2090-01-01"
         },
         {
          "model": "RCP 8.5",
          "value": 1.05854,
          "variable": "CH4_RF",
          "year": "2091-01-01"
         },
         {
          "model": "RCP 8.5",
          "value": 1.0621982,
          "variable": "CH4_RF",
          "year": "2092-01-01"
         },
         {
          "model": "RCP 8.5",
          "value": 1.0656109,
          "variable": "CH4_RF",
          "year": "2093-01-01"
         },
         {
          "model": "RCP 8.5",
          "value": 1.0687864,
          "variable": "CH4_RF",
          "year": "2094-01-01"
         },
         {
          "model": "RCP 8.5",
          "value": 1.0717352,
          "variable": "CH4_RF",
          "year": "2095-01-01"
         },
         {
          "model": "RCP 8.5",
          "value": 1.0744724,
          "variable": "CH4_RF",
          "year": "2096-01-01"
         },
         {
          "model": "RCP 8.5",
          "value": 1.0770124,
          "variable": "CH4_RF",
          "year": "2097-01-01"
         },
         {
          "model": "RCP 8.5",
          "value": 1.0793288,
          "variable": "CH4_RF",
          "year": "2098-01-01"
         },
         {
          "model": "RCP 8.5",
          "value": 1.0814087,
          "variable": "CH4_RF",
          "year": "2099-01-01"
         },
         {
          "model": "RCP 8.5",
          "value": 1.0832964,
          "variable": "CH4_RF",
          "year": "2100-01-01"
         },
         {
          "model": "RCP 8.5",
          "value": 1.0850329,
          "variable": "CH4_RF",
          "year": "2101-01-01"
         },
         {
          "model": "RCP 8.5",
          "value": 1.0865844,
          "variable": "CH4_RF",
          "year": "2102-01-01"
         },
         {
          "model": "RCP 8.5",
          "value": 1.0879219,
          "variable": "CH4_RF",
          "year": "2103-01-01"
         },
         {
          "model": "RCP 8.5",
          "value": 1.0890694,
          "variable": "CH4_RF",
          "year": "2104-01-01"
         },
         {
          "model": "RCP 8.5",
          "value": 1.0900308,
          "variable": "CH4_RF",
          "year": "2105-01-01"
         },
         {
          "model": "RCP 8.5",
          "value": 1.0908128,
          "variable": "CH4_RF",
          "year": "2106-01-01"
         },
         {
          "model": "RCP 8.5",
          "value": 1.0914268,
          "variable": "CH4_RF",
          "year": "2107-01-01"
         },
         {
          "model": "RCP 8.5",
          "value": 1.0918839,
          "variable": "CH4_RF",
          "year": "2108-01-01"
         },
         {
          "model": "RCP 8.5",
          "value": 1.0921545,
          "variable": "CH4_RF",
          "year": "2109-01-01"
         },
         {
          "model": "RCP 8.5",
          "value": 1.0922224,
          "variable": "CH4_RF",
          "year": "2110-01-01"
         },
         {
          "model": "RCP 8.5",
          "value": 1.0921298,
          "variable": "CH4_RF",
          "year": "2111-01-01"
         },
         {
          "model": "RCP 8.5",
          "value": 1.0919161,
          "variable": "CH4_RF",
          "year": "2112-01-01"
         },
         {
          "model": "RCP 8.5",
          "value": 1.0916151,
          "variable": "CH4_RF",
          "year": "2113-01-01"
         },
         {
          "model": "RCP 8.5",
          "value": 1.0912611,
          "variable": "CH4_RF",
          "year": "2114-01-01"
         },
         {
          "model": "RCP 8.5",
          "value": 1.0908652,
          "variable": "CH4_RF",
          "year": "2115-01-01"
         },
         {
          "model": "RCP 8.5",
          "value": 1.0904192,
          "variable": "CH4_RF",
          "year": "2116-01-01"
         },
         {
          "model": "RCP 8.5",
          "value": 1.0899182,
          "variable": "CH4_RF",
          "year": "2117-01-01"
         },
         {
          "model": "RCP 8.5",
          "value": 1.0893631,
          "variable": "CH4_RF",
          "year": "2118-01-01"
         },
         {
          "model": "RCP 8.5",
          "value": 1.088756,
          "variable": "CH4_RF",
          "year": "2119-01-01"
         },
         {
          "model": "RCP 8.5",
          "value": 1.0880582,
          "variable": "CH4_RF",
          "year": "2120-01-01"
         },
         {
          "model": "RCP 8.5",
          "value": 1.087245,
          "variable": "CH4_RF",
          "year": "2121-01-01"
         },
         {
          "model": "RCP 8.5",
          "value": 1.0863515,
          "variable": "CH4_RF",
          "year": "2122-01-01"
         },
         {
          "model": "RCP 8.5",
          "value": 1.0854115,
          "variable": "CH4_RF",
          "year": "2123-01-01"
         },
         {
          "model": "RCP 8.5",
          "value": 1.0844534,
          "variable": "CH4_RF",
          "year": "2124-01-01"
         },
         {
          "model": "RCP 8.5",
          "value": 1.0835063,
          "variable": "CH4_RF",
          "year": "2125-01-01"
         },
         {
          "model": "RCP 8.5",
          "value": 1.0825763,
          "variable": "CH4_RF",
          "year": "2126-01-01"
         },
         {
          "model": "RCP 8.5",
          "value": 1.0816503,
          "variable": "CH4_RF",
          "year": "2127-01-01"
         },
         {
          "model": "RCP 8.5",
          "value": 1.0807185,
          "variable": "CH4_RF",
          "year": "2128-01-01"
         },
         {
          "model": "RCP 8.5",
          "value": 1.0797775,
          "variable": "CH4_RF",
          "year": "2129-01-01"
         },
         {
          "model": "RCP 8.5",
          "value": 1.0788253,
          "variable": "CH4_RF",
          "year": "2130-01-01"
         },
         {
          "model": "RCP 8.5",
          "value": 1.0778198,
          "variable": "CH4_RF",
          "year": "2131-01-01"
         },
         {
          "model": "RCP 8.5",
          "value": 1.0767326,
          "variable": "CH4_RF",
          "year": "2132-01-01"
         },
         {
          "model": "RCP 8.5",
          "value": 1.0755959,
          "variable": "CH4_RF",
          "year": "2133-01-01"
         },
         {
          "model": "RCP 8.5",
          "value": 1.0744414,
          "variable": "CH4_RF",
          "year": "2134-01-01"
         },
         {
          "model": "RCP 8.5",
          "value": 1.0732958,
          "variable": "CH4_RF",
          "year": "2135-01-01"
         },
         {
          "model": "RCP 8.5",
          "value": 1.0721862,
          "variable": "CH4_RF",
          "year": "2136-01-01"
         },
         {
          "model": "RCP 8.5",
          "value": 1.0711172,
          "variable": "CH4_RF",
          "year": "2137-01-01"
         },
         {
          "model": "RCP 8.5",
          "value": 1.0700733,
          "variable": "CH4_RF",
          "year": "2138-01-01"
         },
         {
          "model": "RCP 8.5",
          "value": 1.0690425,
          "variable": "CH4_RF",
          "year": "2139-01-01"
         },
         {
          "model": "RCP 8.5",
          "value": 1.0680195,
          "variable": "CH4_RF",
          "year": "2140-01-01"
         },
         {
          "model": "RCP 8.5",
          "value": 1.0670007,
          "variable": "CH4_RF",
          "year": "2141-01-01"
         },
         {
          "model": "RCP 8.5",
          "value": 1.0659424,
          "variable": "CH4_RF",
          "year": "2142-01-01"
         },
         {
          "model": "RCP 8.5",
          "value": 1.0648144,
          "variable": "CH4_RF",
          "year": "2143-01-01"
         },
         {
          "model": "RCP 8.5",
          "value": 1.0636476,
          "variable": "CH4_RF",
          "year": "2144-01-01"
         },
         {
          "model": "RCP 8.5",
          "value": 1.0624735,
          "variable": "CH4_RF",
          "year": "2145-01-01"
         },
         {
          "model": "RCP 8.5",
          "value": 1.0613182,
          "variable": "CH4_RF",
          "year": "2146-01-01"
         },
         {
          "model": "RCP 8.5",
          "value": 1.0602087,
          "variable": "CH4_RF",
          "year": "2147-01-01"
         },
         {
          "model": "RCP 8.5",
          "value": 1.0591485,
          "variable": "CH4_RF",
          "year": "2148-01-01"
         },
         {
          "model": "RCP 8.5",
          "value": 1.0581217,
          "variable": "CH4_RF",
          "year": "2149-01-01"
         },
         {
          "model": "RCP 8.5",
          "value": 1.0571148,
          "variable": "CH4_RF",
          "year": "2150-01-01"
         },
         {
          "model": "RCP 8.5",
          "value": 1.0561215,
          "variable": "CH4_RF",
          "year": "2151-01-01"
         },
         {
          "model": "RCP 8.5",
          "value": 1.055145,
          "variable": "CH4_RF",
          "year": "2152-01-01"
         },
         {
          "model": "RCP 8.5",
          "value": 1.0541481,
          "variable": "CH4_RF",
          "year": "2153-01-01"
         },
         {
          "model": "RCP 8.5",
          "value": 1.0530989,
          "variable": "CH4_RF",
          "year": "2154-01-01"
         },
         {
          "model": "RCP 8.5",
          "value": 1.0520269,
          "variable": "CH4_RF",
          "year": "2155-01-01"
         },
         {
          "model": "RCP 8.5",
          "value": 1.0509633,
          "variable": "CH4_RF",
          "year": "2156-01-01"
         },
         {
          "model": "RCP 8.5",
          "value": 1.0499341,
          "variable": "CH4_RF",
          "year": "2157-01-01"
         },
         {
          "model": "RCP 8.5",
          "value": 1.0489655,
          "variable": "CH4_RF",
          "year": "2158-01-01"
         },
         {
          "model": "RCP 8.5",
          "value": 1.048061,
          "variable": "CH4_RF",
          "year": "2159-01-01"
         },
         {
          "model": "RCP 8.5",
          "value": 1.0472036,
          "variable": "CH4_RF",
          "year": "2160-01-01"
         },
         {
          "model": "RCP 8.5",
          "value": 1.0463788,
          "variable": "CH4_RF",
          "year": "2161-01-01"
         },
         {
          "model": "RCP 8.5",
          "value": 1.0455795,
          "variable": "CH4_RF",
          "year": "2162-01-01"
         },
         {
          "model": "RCP 8.5",
          "value": 1.0448006,
          "variable": "CH4_RF",
          "year": "2163-01-01"
         },
         {
          "model": "RCP 8.5",
          "value": 1.0439972,
          "variable": "CH4_RF",
          "year": "2164-01-01"
         },
         {
          "model": "RCP 8.5",
          "value": 1.0431373,
          "variable": "CH4_RF",
          "year": "2165-01-01"
         },
         {
          "model": "RCP 8.5",
          "value": 1.0422505,
          "variable": "CH4_RF",
          "year": "2166-01-01"
         },
         {
          "model": "RCP 8.5",
          "value": 1.0413687,
          "variable": "CH4_RF",
          "year": "2167-01-01"
         },
         {
          "model": "RCP 8.5",
          "value": 1.0405185,
          "variable": "CH4_RF",
          "year": "2168-01-01"
         },
         {
          "model": "RCP 8.5",
          "value": 1.0397268,
          "variable": "CH4_RF",
          "year": "2169-01-01"
         },
         {
          "model": "RCP 8.5",
          "value": 1.0389972,
          "variable": "CH4_RF",
          "year": "2170-01-01"
         },
         {
          "model": "RCP 8.5",
          "value": 1.0383125,
          "variable": "CH4_RF",
          "year": "2171-01-01"
         },
         {
          "model": "RCP 8.5",
          "value": 1.0376583,
          "variable": "CH4_RF",
          "year": "2172-01-01"
         },
         {
          "model": "RCP 8.5",
          "value": 1.0370269,
          "variable": "CH4_RF",
          "year": "2173-01-01"
         },
         {
          "model": "RCP 8.5",
          "value": 1.0364133,
          "variable": "CH4_RF",
          "year": "2174-01-01"
         },
         {
          "model": "RCP 8.5",
          "value": 1.0357726,
          "variable": "CH4_RF",
          "year": "2175-01-01"
         },
         {
          "model": "RCP 8.5",
          "value": 1.0350725,
          "variable": "CH4_RF",
          "year": "2176-01-01"
         },
         {
          "model": "RCP 8.5",
          "value": 1.0343429,
          "variable": "CH4_RF",
          "year": "2177-01-01"
         },
         {
          "model": "RCP 8.5",
          "value": 1.033616,
          "variable": "CH4_RF",
          "year": "2178-01-01"
         },
         {
          "model": "RCP 8.5",
          "value": 1.0329189,
          "variable": "CH4_RF",
          "year": "2179-01-01"
         },
         {
          "model": "RCP 8.5",
          "value": 1.0322787,
          "variable": "CH4_RF",
          "year": "2180-01-01"
         },
         {
          "model": "RCP 8.5",
          "value": 1.0316991,
          "variable": "CH4_RF",
          "year": "2181-01-01"
         },
         {
          "model": "RCP 8.5",
          "value": 1.0311628,
          "variable": "CH4_RF",
          "year": "2182-01-01"
         },
         {
          "model": "RCP 8.5",
          "value": 1.030655,
          "variable": "CH4_RF",
          "year": "2183-01-01"
         },
         {
          "model": "RCP 8.5",
          "value": 1.030168,
          "variable": "CH4_RF",
          "year": "2184-01-01"
         },
         {
          "model": "RCP 8.5",
          "value": 1.0296966,
          "variable": "CH4_RF",
          "year": "2185-01-01"
         },
         {
          "model": "RCP 8.5",
          "value": 1.029196,
          "variable": "CH4_RF",
          "year": "2186-01-01"
         },
         {
          "model": "RCP 8.5",
          "value": 1.028634,
          "variable": "CH4_RF",
          "year": "2187-01-01"
         },
         {
          "model": "RCP 8.5",
          "value": 1.0280405,
          "variable": "CH4_RF",
          "year": "2188-01-01"
         },
         {
          "model": "RCP 8.5",
          "value": 1.027448,
          "variable": "CH4_RF",
          "year": "2189-01-01"
         },
         {
          "model": "RCP 8.5",
          "value": 1.026884,
          "variable": "CH4_RF",
          "year": "2190-01-01"
         },
         {
          "model": "RCP 8.5",
          "value": 1.0263755,
          "variable": "CH4_RF",
          "year": "2191-01-01"
         },
         {
          "model": "RCP 8.5",
          "value": 1.0259263,
          "variable": "CH4_RF",
          "year": "2192-01-01"
         },
         {
          "model": "RCP 8.5",
          "value": 1.0255189,
          "variable": "CH4_RF",
          "year": "2193-01-01"
         },
         {
          "model": "RCP 8.5",
          "value": 1.0251383,
          "variable": "CH4_RF",
          "year": "2194-01-01"
         },
         {
          "model": "RCP 8.5",
          "value": 1.0247768,
          "variable": "CH4_RF",
          "year": "2195-01-01"
         },
         {
          "model": "RCP 8.5",
          "value": 1.024429,
          "variable": "CH4_RF",
          "year": "2196-01-01"
         },
         {
          "model": "RCP 8.5",
          "value": 1.0240503,
          "variable": "CH4_RF",
          "year": "2197-01-01"
         },
         {
          "model": "RCP 8.5",
          "value": 1.0236086,
          "variable": "CH4_RF",
          "year": "2198-01-01"
         },
         {
          "model": "RCP 8.5",
          "value": 1.0231339,
          "variable": "CH4_RF",
          "year": "2199-01-01"
         },
         {
          "model": "RCP 8.5",
          "value": 1.0226589,
          "variable": "CH4_RF",
          "year": "2200-01-01"
         },
         {
          "model": "RCP 8.5",
          "value": 0.1450297,
          "variable": "N2O_RF",
          "year": "2001-01-01"
         },
         {
          "model": "RCP 8.5",
          "value": 0.14743728,
          "variable": "N2O_RF",
          "year": "2002-01-01"
         },
         {
          "model": "RCP 8.5",
          "value": 0.14988963,
          "variable": "N2O_RF",
          "year": "2003-01-01"
         },
         {
          "model": "RCP 8.5",
          "value": 0.15208552,
          "variable": "N2O_RF",
          "year": "2004-01-01"
         },
         {
          "model": "RCP 8.5",
          "value": 0.15439741,
          "variable": "N2O_RF",
          "year": "2005-01-01"
         },
         {
          "model": "RCP 8.5",
          "value": 0.15680074,
          "variable": "N2O_RF",
          "year": "2006-01-01"
         },
         {
          "model": "RCP 8.5",
          "value": 0.1589991,
          "variable": "N2O_RF",
          "year": "2007-01-01"
         },
         {
          "model": "RCP 8.5",
          "value": 0.16123626,
          "variable": "N2O_RF",
          "year": "2008-01-01"
         },
         {
          "model": "RCP 8.5",
          "value": 0.16351256,
          "variable": "N2O_RF",
          "year": "2009-01-01"
         },
         {
          "model": "RCP 8.5",
          "value": 0.16582697,
          "variable": "N2O_RF",
          "year": "2010-01-01"
         },
         {
          "model": "RCP 8.5",
          "value": 0.16817976,
          "variable": "N2O_RF",
          "year": "2011-01-01"
         },
         {
          "model": "RCP 8.5",
          "value": 0.17058666,
          "variable": "N2O_RF",
          "year": "2012-01-01"
         },
         {
          "model": "RCP 8.5",
          "value": 0.1730623,
          "variable": "N2O_RF",
          "year": "2013-01-01"
         },
         {
          "model": "RCP 8.5",
          "value": 0.17560604,
          "variable": "N2O_RF",
          "year": "2014-01-01"
         },
         {
          "model": "RCP 8.5",
          "value": 0.17821725,
          "variable": "N2O_RF",
          "year": "2015-01-01"
         },
         {
          "model": "RCP 8.5",
          "value": 0.18089524,
          "variable": "N2O_RF",
          "year": "2016-01-01"
         },
         {
          "model": "RCP 8.5",
          "value": 0.18363917,
          "variable": "N2O_RF",
          "year": "2017-01-01"
         },
         {
          "model": "RCP 8.5",
          "value": 0.18644815,
          "variable": "N2O_RF",
          "year": "2018-01-01"
         },
         {
          "model": "RCP 8.5",
          "value": 0.18932128,
          "variable": "N2O_RF",
          "year": "2019-01-01"
         },
         {
          "model": "RCP 8.5",
          "value": 0.19225766,
          "variable": "N2O_RF",
          "year": "2020-01-01"
         },
         {
          "model": "RCP 8.5",
          "value": 0.19525643,
          "variable": "N2O_RF",
          "year": "2021-01-01"
         },
         {
          "model": "RCP 8.5",
          "value": 0.19831092,
          "variable": "N2O_RF",
          "year": "2022-01-01"
         },
         {
          "model": "RCP 8.5",
          "value": 0.20141455,
          "variable": "N2O_RF",
          "year": "2023-01-01"
         },
         {
          "model": "RCP 8.5",
          "value": 0.2045665,
          "variable": "N2O_RF",
          "year": "2024-01-01"
         },
         {
          "model": "RCP 8.5",
          "value": 0.20776597,
          "variable": "N2O_RF",
          "year": "2025-01-01"
         },
         {
          "model": "RCP 8.5",
          "value": 0.21101216,
          "variable": "N2O_RF",
          "year": "2026-01-01"
         },
         {
          "model": "RCP 8.5",
          "value": 0.21430437,
          "variable": "N2O_RF",
          "year": "2027-01-01"
         },
         {
          "model": "RCP 8.5",
          "value": 0.21764189,
          "variable": "N2O_RF",
          "year": "2028-01-01"
         },
         {
          "model": "RCP 8.5",
          "value": 0.22102405,
          "variable": "N2O_RF",
          "year": "2029-01-01"
         },
         {
          "model": "RCP 8.5",
          "value": 0.22445017,
          "variable": "N2O_RF",
          "year": "2030-01-01"
         },
         {
          "model": "RCP 8.5",
          "value": 0.22791957,
          "variable": "N2O_RF",
          "year": "2031-01-01"
         },
         {
          "model": "RCP 8.5",
          "value": 0.23143238,
          "variable": "N2O_RF",
          "year": "2032-01-01"
         },
         {
          "model": "RCP 8.5",
          "value": 0.23498875,
          "variable": "N2O_RF",
          "year": "2033-01-01"
         },
         {
          "model": "RCP 8.5",
          "value": 0.23858802,
          "variable": "N2O_RF",
          "year": "2034-01-01"
         },
         {
          "model": "RCP 8.5",
          "value": 0.24222951,
          "variable": "N2O_RF",
          "year": "2035-01-01"
         },
         {
          "model": "RCP 8.5",
          "value": 0.24591259,
          "variable": "N2O_RF",
          "year": "2036-01-01"
         },
         {
          "model": "RCP 8.5",
          "value": 0.24963658,
          "variable": "N2O_RF",
          "year": "2037-01-01"
         },
         {
          "model": "RCP 8.5",
          "value": 0.25340083,
          "variable": "N2O_RF",
          "year": "2038-01-01"
         },
         {
          "model": "RCP 8.5",
          "value": 0.25720469,
          "variable": "N2O_RF",
          "year": "2039-01-01"
         },
         {
          "model": "RCP 8.5",
          "value": 0.26104753,
          "variable": "N2O_RF",
          "year": "2040-01-01"
         },
         {
          "model": "RCP 8.5",
          "value": 0.2649287,
          "variable": "N2O_RF",
          "year": "2041-01-01"
         },
         {
          "model": "RCP 8.5",
          "value": 0.26883262,
          "variable": "N2O_RF",
          "year": "2042-01-01"
         },
         {
          "model": "RCP 8.5",
          "value": 0.27274379,
          "variable": "N2O_RF",
          "year": "2043-01-01"
         },
         {
          "model": "RCP 8.5",
          "value": 0.27666177,
          "variable": "N2O_RF",
          "year": "2044-01-01"
         },
         {
          "model": "RCP 8.5",
          "value": 0.28058613,
          "variable": "N2O_RF",
          "year": "2045-01-01"
         },
         {
          "model": "RCP 8.5",
          "value": 0.28451651,
          "variable": "N2O_RF",
          "year": "2046-01-01"
         },
         {
          "model": "RCP 8.5",
          "value": 0.28845268,
          "variable": "N2O_RF",
          "year": "2047-01-01"
         },
         {
          "model": "RCP 8.5",
          "value": 0.29239448,
          "variable": "N2O_RF",
          "year": "2048-01-01"
         },
         {
          "model": "RCP 8.5",
          "value": 0.29634174,
          "variable": "N2O_RF",
          "year": "2049-01-01"
         },
         {
          "model": "RCP 8.5",
          "value": 0.30029432,
          "variable": "N2O_RF",
          "year": "2050-01-01"
         },
         {
          "model": "RCP 8.5",
          "value": 0.30425205,
          "variable": "N2O_RF",
          "year": "2051-01-01"
         },
         {
          "model": "RCP 8.5",
          "value": 0.30821047,
          "variable": "N2O_RF",
          "year": "2052-01-01"
         },
         {
          "model": "RCP 8.5",
          "value": 0.3121651,
          "variable": "N2O_RF",
          "year": "2053-01-01"
         },
         {
          "model": "RCP 8.5",
          "value": 0.31611587,
          "variable": "N2O_RF",
          "year": "2054-01-01"
         },
         {
          "model": "RCP 8.5",
          "value": 0.32006266,
          "variable": "N2O_RF",
          "year": "2055-01-01"
         },
         {
          "model": "RCP 8.5",
          "value": 0.32400542,
          "variable": "N2O_RF",
          "year": "2056-01-01"
         },
         {
          "model": "RCP 8.5",
          "value": 0.32794412,
          "variable": "N2O_RF",
          "year": "2057-01-01"
         },
         {
          "model": "RCP 8.5",
          "value": 0.33187872,
          "variable": "N2O_RF",
          "year": "2058-01-01"
         },
         {
          "model": "RCP 8.5",
          "value": 0.33580923,
          "variable": "N2O_RF",
          "year": "2059-01-01"
         },
         {
          "model": "RCP 8.5",
          "value": 0.33973563,
          "variable": "N2O_RF",
          "year": "2060-01-01"
         },
         {
          "model": "RCP 8.5",
          "value": 0.34365791,
          "variable": "N2O_RF",
          "year": "2061-01-01"
         },
         {
          "model": "RCP 8.5",
          "value": 0.34757284,
          "variable": "N2O_RF",
          "year": "2062-01-01"
         },
         {
          "model": "RCP 8.5",
          "value": 0.35147724,
          "variable": "N2O_RF",
          "year": "2063-01-01"
         },
         {
          "model": "RCP 8.5",
          "value": 0.35537111,
          "variable": "N2O_RF",
          "year": "2064-01-01"
         },
         {
          "model": "RCP 8.5",
          "value": 0.35925449,
          "variable": "N2O_RF",
          "year": "2065-01-01"
         },
         {
          "model": "RCP 8.5",
          "value": 0.36312743,
          "variable": "N2O_RF",
          "year": "2066-01-01"
         },
         {
          "model": "RCP 8.5",
          "value": 0.36698997,
          "variable": "N2O_RF",
          "year": "2067-01-01"
         },
         {
          "model": "RCP 8.5",
          "value": 0.37084222,
          "variable": "N2O_RF",
          "year": "2068-01-01"
         },
         {
          "model": "RCP 8.5",
          "value": 0.37468424,
          "variable": "N2O_RF",
          "year": "2069-01-01"
         },
         {
          "model": "RCP 8.5",
          "value": 0.37851611,
          "variable": "N2O_RF",
          "year": "2070-01-01"
         },
         {
          "model": "RCP 8.5",
          "value": 0.38233791,
          "variable": "N2O_RF",
          "year": "2071-01-01"
         },
         {
          "model": "RCP 8.5",
          "value": 0.38615266,
          "variable": "N2O_RF",
          "year": "2072-01-01"
         },
         {
          "model": "RCP 8.5",
          "value": 0.38996335,
          "variable": "N2O_RF",
          "year": "2073-01-01"
         },
         {
          "model": "RCP 8.5",
          "value": 0.39377004,
          "variable": "N2O_RF",
          "year": "2074-01-01"
         },
         {
          "model": "RCP 8.5",
          "value": 0.39757275,
          "variable": "N2O_RF",
          "year": "2075-01-01"
         },
         {
          "model": "RCP 8.5",
          "value": 0.40137153,
          "variable": "N2O_RF",
          "year": "2076-01-01"
         },
         {
          "model": "RCP 8.5",
          "value": 0.40516637,
          "variable": "N2O_RF",
          "year": "2077-01-01"
         },
         {
          "model": "RCP 8.5",
          "value": 0.40895727,
          "variable": "N2O_RF",
          "year": "2078-01-01"
         },
         {
          "model": "RCP 8.5",
          "value": 0.41274422,
          "variable": "N2O_RF",
          "year": "2079-01-01"
         },
         {
          "model": "RCP 8.5",
          "value": 0.41652721,
          "variable": "N2O_RF",
          "year": "2080-01-01"
         },
         {
          "model": "RCP 8.5",
          "value": 0.42030624,
          "variable": "N2O_RF",
          "year": "2081-01-01"
         },
         {
          "model": "RCP 8.5",
          "value": 0.42408464,
          "variable": "N2O_RF",
          "year": "2082-01-01"
         },
         {
          "model": "RCP 8.5",
          "value": 0.42786575,
          "variable": "N2O_RF",
          "year": "2083-01-01"
         },
         {
          "model": "RCP 8.5",
          "value": 0.4316495,
          "variable": "N2O_RF",
          "year": "2084-01-01"
         },
         {
          "model": "RCP 8.5",
          "value": 0.43543588,
          "variable": "N2O_RF",
          "year": "2085-01-01"
         },
         {
          "model": "RCP 8.5",
          "value": 0.43922481,
          "variable": "N2O_RF",
          "year": "2086-01-01"
         },
         {
          "model": "RCP 8.5",
          "value": 0.44301621,
          "variable": "N2O_RF",
          "year": "2087-01-01"
         },
         {
          "model": "RCP 8.5",
          "value": 0.44680999,
          "variable": "N2O_RF",
          "year": "2088-01-01"
         },
         {
          "model": "RCP 8.5",
          "value": 0.45060604,
          "variable": "N2O_RF",
          "year": "2089-01-01"
         },
         {
          "model": "RCP 8.5",
          "value": 0.45440429,
          "variable": "N2O_RF",
          "year": "2090-01-01"
         },
         {
          "model": "RCP 8.5",
          "value": 0.45820462,
          "variable": "N2O_RF",
          "year": "2091-01-01"
         },
         {
          "model": "RCP 8.5",
          "value": 0.46199979,
          "variable": "N2O_RF",
          "year": "2092-01-01"
         },
         {
          "model": "RCP 8.5",
          "value": 0.46578261,
          "variable": "N2O_RF",
          "year": "2093-01-01"
         },
         {
          "model": "RCP 8.5",
          "value": 0.46955305,
          "variable": "N2O_RF",
          "year": "2094-01-01"
         },
         {
          "model": "RCP 8.5",
          "value": 0.4733111,
          "variable": "N2O_RF",
          "year": "2095-01-01"
         },
         {
          "model": "RCP 8.5",
          "value": 0.47705678,
          "variable": "N2O_RF",
          "year": "2096-01-01"
         },
         {
          "model": "RCP 8.5",
          "value": 0.48079017,
          "variable": "N2O_RF",
          "year": "2097-01-01"
         },
         {
          "model": "RCP 8.5",
          "value": 0.48451138,
          "variable": "N2O_RF",
          "year": "2098-01-01"
         },
         {
          "model": "RCP 8.5",
          "value": 0.4882205,
          "variable": "N2O_RF",
          "year": "2099-01-01"
         },
         {
          "model": "RCP 8.5",
          "value": 0.49191766,
          "variable": "N2O_RF",
          "year": "2100-01-01"
         },
         {
          "model": "RCP 8.5",
          "value": 0.49560296,
          "variable": "N2O_RF",
          "year": "2101-01-01"
         },
         {
          "model": "RCP 8.5",
          "value": 0.49926297,
          "variable": "N2O_RF",
          "year": "2102-01-01"
         },
         {
          "model": "RCP 8.5",
          "value": 0.50288434,
          "variable": "N2O_RF",
          "year": "2103-01-01"
         },
         {
          "model": "RCP 8.5",
          "value": 0.50646731,
          "variable": "N2O_RF",
          "year": "2104-01-01"
         },
         {
          "model": "RCP 8.5",
          "value": 0.51001211,
          "variable": "N2O_RF",
          "year": "2105-01-01"
         },
         {
          "model": "RCP 8.5",
          "value": 0.51351904,
          "variable": "N2O_RF",
          "year": "2106-01-01"
         },
         {
          "model": "RCP 8.5",
          "value": 0.51698848,
          "variable": "N2O_RF",
          "year": "2107-01-01"
         },
         {
          "model": "RCP 8.5",
          "value": 0.5204209,
          "variable": "N2O_RF",
          "year": "2108-01-01"
         },
         {
          "model": "RCP 8.5",
          "value": 0.52381674,
          "variable": "N2O_RF",
          "year": "2109-01-01"
         },
         {
          "model": "RCP 8.5",
          "value": 0.52717645,
          "variable": "N2O_RF",
          "year": "2110-01-01"
         },
         {
          "model": "RCP 8.5",
          "value": 0.53050045,
          "variable": "N2O_RF",
          "year": "2111-01-01"
         },
         {
          "model": "RCP 8.5",
          "value": 0.53378919,
          "variable": "N2O_RF",
          "year": "2112-01-01"
         },
         {
          "model": "RCP 8.5",
          "value": 0.53704308,
          "variable": "N2O_RF",
          "year": "2113-01-01"
         },
         {
          "model": "RCP 8.5",
          "value": 0.54026255,
          "variable": "N2O_RF",
          "year": "2114-01-01"
         },
         {
          "model": "RCP 8.5",
          "value": 0.543448,
          "variable": "N2O_RF",
          "year": "2115-01-01"
         },
         {
          "model": "RCP 8.5",
          "value": 0.54659984,
          "variable": "N2O_RF",
          "year": "2116-01-01"
         },
         {
          "model": "RCP 8.5",
          "value": 0.54971848,
          "variable": "N2O_RF",
          "year": "2117-01-01"
         },
         {
          "model": "RCP 8.5",
          "value": 0.5528043,
          "variable": "N2O_RF",
          "year": "2118-01-01"
         },
         {
          "model": "RCP 8.5",
          "value": 0.55585769,
          "variable": "N2O_RF",
          "year": "2119-01-01"
         },
         {
          "model": "RCP 8.5",
          "value": 0.55887903,
          "variable": "N2O_RF",
          "year": "2120-01-01"
         },
         {
          "model": "RCP 8.5",
          "value": 0.56186871,
          "variable": "N2O_RF",
          "year": "2121-01-01"
         },
         {
          "model": "RCP 8.5",
          "value": 0.56482709,
          "variable": "N2O_RF",
          "year": "2122-01-01"
         },
         {
          "model": "RCP 8.5",
          "value": 0.56775454,
          "variable": "N2O_RF",
          "year": "2123-01-01"
         },
         {
          "model": "RCP 8.5",
          "value": 0.57065143,
          "variable": "N2O_RF",
          "year": "2124-01-01"
         },
         {
          "model": "RCP 8.5",
          "value": 0.5735181,
          "variable": "N2O_RF",
          "year": "2125-01-01"
         },
         {
          "model": "RCP 8.5",
          "value": 0.57635491,
          "variable": "N2O_RF",
          "year": "2126-01-01"
         },
         {
          "model": "RCP 8.5",
          "value": 0.57916221,
          "variable": "N2O_RF",
          "year": "2127-01-01"
         },
         {
          "model": "RCP 8.5",
          "value": 0.58194033,
          "variable": "N2O_RF",
          "year": "2128-01-01"
         },
         {
          "model": "RCP 8.5",
          "value": 0.58468962,
          "variable": "N2O_RF",
          "year": "2129-01-01"
         },
         {
          "model": "RCP 8.5",
          "value": 0.58741041,
          "variable": "N2O_RF",
          "year": "2130-01-01"
         },
         {
          "model": "RCP 8.5",
          "value": 0.59010301,
          "variable": "N2O_RF",
          "year": "2131-01-01"
         },
         {
          "model": "RCP 8.5",
          "value": 0.59276776,
          "variable": "N2O_RF",
          "year": "2132-01-01"
         },
         {
          "model": "RCP 8.5",
          "value": 0.59540498,
          "variable": "N2O_RF",
          "year": "2133-01-01"
         },
         {
          "model": "RCP 8.5",
          "value": 0.59801497,
          "variable": "N2O_RF",
          "year": "2134-01-01"
         },
         {
          "model": "RCP 8.5",
          "value": 0.60059806,
          "variable": "N2O_RF",
          "year": "2135-01-01"
         },
         {
          "model": "RCP 8.5",
          "value": 0.60315454,
          "variable": "N2O_RF",
          "year": "2136-01-01"
         },
         {
          "model": "RCP 8.5",
          "value": 0.60568471,
          "variable": "N2O_RF",
          "year": "2137-01-01"
         },
         {
          "model": "RCP 8.5",
          "value": 0.60818888,
          "variable": "N2O_RF",
          "year": "2138-01-01"
         },
         {
          "model": "RCP 8.5",
          "value": 0.61066733,
          "variable": "N2O_RF",
          "year": "2139-01-01"
         },
         {
          "model": "RCP 8.5",
          "value": 0.61312037,
          "variable": "N2O_RF",
          "year": "2140-01-01"
         },
         {
          "model": "RCP 8.5",
          "value": 0.61554826,
          "variable": "N2O_RF",
          "year": "2141-01-01"
         },
         {
          "model": "RCP 8.5",
          "value": 0.6179513,
          "variable": "N2O_RF",
          "year": "2142-01-01"
         },
         {
          "model": "RCP 8.5",
          "value": 0.62032977,
          "variable": "N2O_RF",
          "year": "2143-01-01"
         },
         {
          "model": "RCP 8.5",
          "value": 0.62268393,
          "variable": "N2O_RF",
          "year": "2144-01-01"
         },
         {
          "model": "RCP 8.5",
          "value": 0.62501406,
          "variable": "N2O_RF",
          "year": "2145-01-01"
         },
         {
          "model": "RCP 8.5",
          "value": 0.62732043,
          "variable": "N2O_RF",
          "year": "2146-01-01"
         },
         {
          "model": "RCP 8.5",
          "value": 0.62960329,
          "variable": "N2O_RF",
          "year": "2147-01-01"
         },
         {
          "model": "RCP 8.5",
          "value": 0.63186293,
          "variable": "N2O_RF",
          "year": "2148-01-01"
         },
         {
          "model": "RCP 8.5",
          "value": 0.63409958,
          "variable": "N2O_RF",
          "year": "2149-01-01"
         },
         {
          "model": "RCP 8.5",
          "value": 0.6363135,
          "variable": "N2O_RF",
          "year": "2150-01-01"
         },
         {
          "model": "RCP 8.5",
          "value": 0.63850495,
          "variable": "N2O_RF",
          "year": "2151-01-01"
         },
         {
          "model": "RCP 8.5",
          "value": 0.64066759,
          "variable": "N2O_RF",
          "year": "2152-01-01"
         },
         {
          "model": "RCP 8.5",
          "value": 0.64279513,
          "variable": "N2O_RF",
          "year": "2153-01-01"
         },
         {
          "model": "RCP 8.5",
          "value": 0.64488783,
          "variable": "N2O_RF",
          "year": "2154-01-01"
         },
         {
          "model": "RCP 8.5",
          "value": 0.64694598,
          "variable": "N2O_RF",
          "year": "2155-01-01"
         },
         {
          "model": "RCP 8.5",
          "value": 0.64896988,
          "variable": "N2O_RF",
          "year": "2156-01-01"
         },
         {
          "model": "RCP 8.5",
          "value": 0.65095987,
          "variable": "N2O_RF",
          "year": "2157-01-01"
         },
         {
          "model": "RCP 8.5",
          "value": 0.65291634,
          "variable": "N2O_RF",
          "year": "2158-01-01"
         },
         {
          "model": "RCP 8.5",
          "value": 0.65483966,
          "variable": "N2O_RF",
          "year": "2159-01-01"
         },
         {
          "model": "RCP 8.5",
          "value": 0.65673019,
          "variable": "N2O_RF",
          "year": "2160-01-01"
         },
         {
          "model": "RCP 8.5",
          "value": 0.65858829,
          "variable": "N2O_RF",
          "year": "2161-01-01"
         },
         {
          "model": "RCP 8.5",
          "value": 0.66041433,
          "variable": "N2O_RF",
          "year": "2162-01-01"
         },
         {
          "model": "RCP 8.5",
          "value": 0.66220866,
          "variable": "N2O_RF",
          "year": "2163-01-01"
         },
         {
          "model": "RCP 8.5",
          "value": 0.66397163,
          "variable": "N2O_RF",
          "year": "2164-01-01"
         },
         {
          "model": "RCP 8.5",
          "value": 0.66570358,
          "variable": "N2O_RF",
          "year": "2165-01-01"
         },
         {
          "model": "RCP 8.5",
          "value": 0.66740485,
          "variable": "N2O_RF",
          "year": "2166-01-01"
         },
         {
          "model": "RCP 8.5",
          "value": 0.66907577,
          "variable": "N2O_RF",
          "year": "2167-01-01"
         },
         {
          "model": "RCP 8.5",
          "value": 0.67071668,
          "variable": "N2O_RF",
          "year": "2168-01-01"
         },
         {
          "model": "RCP 8.5",
          "value": 0.6723279,
          "variable": "N2O_RF",
          "year": "2169-01-01"
         },
         {
          "model": "RCP 8.5",
          "value": 0.67390975,
          "variable": "N2O_RF",
          "year": "2170-01-01"
         },
         {
          "model": "RCP 8.5",
          "value": 0.67546256,
          "variable": "N2O_RF",
          "year": "2171-01-01"
         },
         {
          "model": "RCP 8.5",
          "value": 0.67698663,
          "variable": "N2O_RF",
          "year": "2172-01-01"
         },
         {
          "model": "RCP 8.5",
          "value": 0.67848227,
          "variable": "N2O_RF",
          "year": "2173-01-01"
         },
         {
          "model": "RCP 8.5",
          "value": 0.67994978,
          "variable": "N2O_RF",
          "year": "2174-01-01"
         },
         {
          "model": "RCP 8.5",
          "value": 0.68138948,
          "variable": "N2O_RF",
          "year": "2175-01-01"
         },
         {
          "model": "RCP 8.5",
          "value": 0.68280166,
          "variable": "N2O_RF",
          "year": "2176-01-01"
         },
         {
          "model": "RCP 8.5",
          "value": 0.6841866,
          "variable": "N2O_RF",
          "year": "2177-01-01"
         },
         {
          "model": "RCP 8.5",
          "value": 0.6855446,
          "variable": "N2O_RF",
          "year": "2178-01-01"
         },
         {
          "model": "RCP 8.5",
          "value": 0.68687594,
          "variable": "N2O_RF",
          "year": "2179-01-01"
         },
         {
          "model": "RCP 8.5",
          "value": 0.68818092,
          "variable": "N2O_RF",
          "year": "2180-01-01"
         },
         {
          "model": "RCP 8.5",
          "value": 0.6894598,
          "variable": "N2O_RF",
          "year": "2181-01-01"
         },
         {
          "model": "RCP 8.5",
          "value": 0.69071285,
          "variable": "N2O_RF",
          "year": "2182-01-01"
         },
         {
          "model": "RCP 8.5",
          "value": 0.69194036,
          "variable": "N2O_RF",
          "year": "2183-01-01"
         },
         {
          "model": "RCP 8.5",
          "value": 0.69314259,
          "variable": "N2O_RF",
          "year": "2184-01-01"
         },
         {
          "model": "RCP 8.5",
          "value": 0.69431981,
          "variable": "N2O_RF",
          "year": "2185-01-01"
         },
         {
          "model": "RCP 8.5",
          "value": 0.69547227,
          "variable": "N2O_RF",
          "year": "2186-01-01"
         },
         {
          "model": "RCP 8.5",
          "value": 0.69660023,
          "variable": "N2O_RF",
          "year": "2187-01-01"
         },
         {
          "model": "RCP 8.5",
          "value": 0.69770396,
          "variable": "N2O_RF",
          "year": "2188-01-01"
         },
         {
          "model": "RCP 8.5",
          "value": 0.69878369,
          "variable": "N2O_RF",
          "year": "2189-01-01"
         },
         {
          "model": "RCP 8.5",
          "value": 0.69983969,
          "variable": "N2O_RF",
          "year": "2190-01-01"
         },
         {
          "model": "RCP 8.5",
          "value": 0.70087219,
          "variable": "N2O_RF",
          "year": "2191-01-01"
         },
         {
          "model": "RCP 8.5",
          "value": 0.70188143,
          "variable": "N2O_RF",
          "year": "2192-01-01"
         },
         {
          "model": "RCP 8.5",
          "value": 0.70286766,
          "variable": "N2O_RF",
          "year": "2193-01-01"
         },
         {
          "model": "RCP 8.5",
          "value": 0.70383112,
          "variable": "N2O_RF",
          "year": "2194-01-01"
         },
         {
          "model": "RCP 8.5",
          "value": 0.70477203,
          "variable": "N2O_RF",
          "year": "2195-01-01"
         },
         {
          "model": "RCP 8.5",
          "value": 0.70569063,
          "variable": "N2O_RF",
          "year": "2196-01-01"
         },
         {
          "model": "RCP 8.5",
          "value": 0.70658715,
          "variable": "N2O_RF",
          "year": "2197-01-01"
         },
         {
          "model": "RCP 8.5",
          "value": 0.7074618,
          "variable": "N2O_RF",
          "year": "2198-01-01"
         },
         {
          "model": "RCP 8.5",
          "value": 0.70831482,
          "variable": "N2O_RF",
          "year": "2199-01-01"
         },
         {
          "model": "RCP 8.5",
          "value": 0.70914643,
          "variable": "N2O_RF",
          "year": "2200-01-01"
         },
         {
          "model": "Mimi-Page-2009",
          "value": 1.7680438862001864,
          "variable": "CO2_RF",
          "year": "2009-01-01"
         },
         {
          "model": "Mimi-Page-2009",
          "value": 1.803999145570352,
          "variable": "CO2_RF",
          "year": "2010-01-01"
         },
         {
          "model": "Mimi-Page-2009",
          "value": 2.149565231139052,
          "variable": "CO2_RF",
          "year": "2020-01-01"
         },
         {
          "model": "Mimi-Page-2009",
          "value": 2.556604725159472,
          "variable": "CO2_RF",
          "year": "2030-01-01"
         },
         {
          "model": "Mimi-Page-2009",
          "value": 2.982272216770628,
          "variable": "CO2_RF",
          "year": "2040-01-01"
         },
         {
          "model": "Mimi-Page-2009",
          "value": 3.4157151982950715,
          "variable": "CO2_RF",
          "year": "2050-01-01"
         },
         {
          "model": "Mimi-Page-2009",
          "value": 4.199752474009315,
          "variable": "CO2_RF",
          "year": "2075-01-01"
         },
         {
          "model": "Mimi-Page-2009",
          "value": 4.9359849598814955,
          "variable": "CO2_RF",
          "year": "2100-01-01"
         },
         {
          "model": "Mimi-Page-2009",
          "value": 5.711673323279977,
          "variable": "CO2_RF",
          "year": "2150-01-01"
         },
         {
          "model": "Mimi-Page-2009",
          "value": 6.542277603527926,
          "variable": "CO2_RF",
          "year": "2200-01-01"
         },
         {
          "model": "Mimi-Page-2009",
          "value": 0.5571510833870409,
          "variable": "CH4_RF",
          "year": "2009-01-01"
         },
         {
          "model": "Mimi-Page-2009",
          "value": 0.5642285501184544,
          "variable": "CH4_RF",
          "year": "2010-01-01"
         },
         {
          "model": "Mimi-Page-2009",
          "value": 0.6277212385095137,
          "variable": "CH4_RF",
          "year": "2020-01-01"
         },
         {
          "model": "Mimi-Page-2009",
          "value": 0.6868588363759941,
          "variable": "CH4_RF",
          "year": "2030-01-01"
         },
         {
          "model": "Mimi-Page-2009",
          "value": 0.7227764604590735,
          "variable": "CH4_RF",
          "year": "2040-01-01"
         },
         {
          "model": "Mimi-Page-2009",
          "value": 0.731335504390404,
          "variable": "CH4_RF",
          "year": "2050-01-01"
         },
         {
          "model": "Mimi-Page-2009",
          "value": 0.6811124264633716,
          "variable": "CH4_RF",
          "year": "2075-01-01"
         },
         {
          "model": "Mimi-Page-2009",
          "value": 0.5821112718243948,
          "variable": "CH4_RF",
          "year": "2100-01-01"
         },
         {
          "model": "Mimi-Page-2009",
          "value": 0.5260120311380312,
          "variable": "CH4_RF",
          "year": "2150-01-01"
         },
         {
          "model": "Mimi-Page-2009",
          "value": 0.5255217147522744,
          "variable": "CH4_RF",
          "year": "2200-01-01"
         },
         {
          "model": "Mimi-Page-2009",
          "value": 0.1828746820090922,
          "variable": "N2O_RF",
          "year": "2009-01-01"
         },
         {
          "model": "Mimi-Page-2009",
          "value": 0.1857240474726259,
          "variable": "N2O_RF",
          "year": "2010-01-01"
         },
         {
          "model": "Mimi-Page-2009",
          "value": 0.21305461404379902,
          "variable": "N2O_RF",
          "year": "2020-01-01"
         },
         {
          "model": "Mimi-Page-2009",
          "value": 0.23861394814136705,
          "variable": "N2O_RF",
          "year": "2030-01-01"
         },
         {
          "model": "Mimi-Page-2009",
          "value": 0.2623244015006947,
          "variable": "N2O_RF",
          "year": "2040-01-01"
         },
         {
          "model": "Mimi-Page-2009",
          "value": 0.2840145706850272,
          "variable": "N2O_RF",
          "year": "2050-01-01"
         },
         {
          "model": "Mimi-Page-2009",
          "value": 0.32839603919404714,
          "variable": "N2O_RF",
          "year": "2075-01-01"
         },
         {
          "model": "Mimi-Page-2009",
          "value": 0.3609644336005311,
          "variable": "N2O_RF",
          "year": "2100-01-01"
         },
         {
          "model": "Mimi-Page-2009",
          "value": 0.4059791512334704,
          "variable": "N2O_RF",
          "year": "2150-01-01"
         },
         {
          "model": "Mimi-Page-2009",
          "value": 0.4345183530743303,
          "variable": "N2O_RF",
          "year": "2200-01-01"
         }
        ]
       },
       "encoding": {
        "color": {
         "field": "model",
         "legend": {
          "title": "Source"
         },
         "type": "nominal"
        },
        "column": {
         "field": "variable",
         "title": "",
         "type": "nominal"
        },
        "x": {
         "field": "year",
         "timeUnit": "year",
         "title": "year",
         "type": "temporal"
        },
        "y": {
         "field": "value",
         "title": "W/m²",
         "type": "quantitative"
        }
       },
       "height": 250,
       "mark": "line",
       "resolve": {
        "scale": {
         "y": "independent"
        }
       },
       "width": 350
      },
      "image/png": "[encoded data removed]",
      "image/svg+xml": [
       "<?xml version=\"1.0\" encoding=\"utf-8\"?>\n",
       "<!DOCTYPE svg PUBLIC \"-//W3C//DTD SVG 1.1//EN\" \"http://www.w3.org/Graphics/SVG/1.1/DTD/svg11.dtd\">\n",
       "<svg class=\"marks\" width=\"1386\" height=\"330\" viewBox=\"0 0 1386 330\" version=\"1.1\" xmlns=\"http://www.w3.org/2000/svg\" xmlns:xlink=\"http://www.w3.org/1999/xlink\"><g transform=\"translate(55,33)\"><g class=\"mark-group role-frame root\"><g transform=\"translate(0,0)\"><path class=\"background\" d=\"M0,0h0v0h0Z\" style=\"fill: none;\"></path><g><g class=\"mark-group role-column-header column_header\"><g transform=\"translate(0,-7)\"><path class=\"background\" d=\"M0,0h350v0h-350Z\" style=\"fill: none;\"></path><g><g class=\"mark-text role-title\" style=\"pointer-events: none;\"><text text-anchor=\"middle\" transform=\"translate(175,-12)\" style=\"font-family: sans-serif; font-size: 10px; fill: #000; opacity: 1;\">CH4_RF</text></g></g></g><g transform=\"translate(413,-7)\"><path class=\"background\" d=\"M0,0h350v0h-350Z\" style=\"fill: none;\"></path><g><g class=\"mark-text role-title\" style=\"pointer-events: none;\"><text text-anchor=\"middle\" transform=\"translate(175,-12)\" style=\"font-family: sans-serif; font-size: 10px; fill: #000; opacity: 1;\">CO2_RF</text></g></g></g><g transform=\"translate(826,-7)\"><path class=\"background\" d=\"M0,0h350v0h-350Z\" style=\"fill: none;\"></path><g><g class=\"mark-text role-title\" style=\"pointer-events: none;\"><text text-anchor=\"middle\" transform=\"translate(175,-12)\" style=\"font-family: sans-serif; font-size: 10px; fill: #000; opacity: 1;\">N2O_RF</text></g></g></g></g><g class=\"mark-group role-column-footer column_footer\"><g transform=\"translate(0,257)\"><path class=\"background\" d=\"M0,0h350v0h-350Z\" style=\"fill: none;\"></path><g><g class=\"mark-group role-axis\"><g transform=\"translate(0.5,0.5)\"><path class=\"background\" d=\"M0,0h0v0h0Z\" style=\"pointer-events: none; fill: none;\"></path><g><g class=\"mark-rule role-axis-tick\" style=\"pointer-events: none;\"><line transform=\"translate(33,0)\" x2=\"0\" y2=\"5\" style=\"fill: none; stroke: #888; stroke-width: 1; opacity: 1;\"></line><line transform=\"translate(69,0)\" x2=\"0\" y2=\"5\" style=\"fill: none; stroke: #888; stroke-width: 1; opacity: 1;\"></line><line transform=\"translate(104,0)\" x2=\"0\" y2=\"5\" style=\"fill: none; stroke: #888; stroke-width: 1; opacity: 1;\"></line><line transform=\"translate(139,0)\" x2=\"0\" y2=\"5\" style=\"fill: none; stroke: #888; stroke-width: 1; opacity: 1;\"></line><line transform=\"translate(174,0)\" x2=\"0\" y2=\"5\" style=\"fill: none; stroke: #888; stroke-width: 1; opacity: 1;\"></line><line transform=\"translate(209,0)\" x2=\"0\" y2=\"5\" style=\"fill: none; stroke: #888; stroke-width: 1; opacity: 1;\"></line><line transform=\"translate(244,0)\" x2=\"0\" y2=\"5\" style=\"fill: none; stroke: #888; stroke-width: 1; opacity: 1;\"></line><line transform=\"translate(280,0)\" x2=\"0\" y2=\"5\" style=\"fill: none; stroke: #888; stroke-width: 1; opacity: 1;\"></line><line transform=\"translate(315,0)\" x2=\"0\" y2=\"5\" style=\"fill: none; stroke: #888; stroke-width: 1; opacity: 1;\"></line><line transform=\"translate(350,0)\" x2=\"0\" y2=\"5\" style=\"fill: none; stroke: #888; stroke-width: 1; opacity: 1;\"></line></g><g class=\"mark-text role-axis-label\" style=\"pointer-events: none;\"><text text-anchor=\"middle\" transform=\"translate(33.41427844200157,15)\" style=\"font-family: sans-serif; font-size: 10px; fill: #000; opacity: 1;\">2020</text><text text-anchor=\"middle\" transform=\"translate(68.59100477415627,15)\" style=\"font-family: sans-serif; font-size: 10px; fill: #000; opacity: 0;\">2040</text><text text-anchor=\"middle\" transform=\"translate(103.76773110631096,15)\" style=\"font-family: sans-serif; font-size: 10px; fill: #000; opacity: 1;\">2060</text><text text-anchor=\"middle\" transform=\"translate(138.94445743846566,15)\" style=\"font-family: sans-serif; font-size: 10px; fill: #000; opacity: 0;\">2080</text><text text-anchor=\"middle\" transform=\"translate(174.12118377062035,15)\" style=\"font-family: sans-serif; font-size: 10px; fill: #000; opacity: 1;\">2100</text><text text-anchor=\"middle\" transform=\"translate(209.29309467138123,15)\" style=\"font-family: sans-serif; font-size: 10px; fill: #000; opacity: 0;\">2120</text><text text-anchor=\"middle\" transform=\"translate(244.4698210035359,15)\" style=\"font-family: sans-serif; font-size: 10px; fill: #000; opacity: 1;\">2140</text><text text-anchor=\"middle\" transform=\"translate(279.6465473356906,15)\" style=\"font-family: sans-serif; font-size: 10px; fill: #000; opacity: 0;\">2160</text><text text-anchor=\"middle\" transform=\"translate(314.8232736678453,15)\" style=\"font-family: sans-serif; font-size: 10px; fill: #000; opacity: 1;\">2180</text><text text-anchor=\"end\" transform=\"translate(350,15)\" style=\"font-family: sans-serif; font-size: 10px; fill: #000; opacity: 0;\">2200</text></g><g class=\"mark-rule role-axis-domain\" style=\"pointer-events: none;\"><line transform=\"translate(0,0)\" x2=\"350\" y2=\"0\" style=\"fill: none; stroke: #888; stroke-width: 1; opacity: 1;\"></line></g><g class=\"mark-text role-axis-title\" style=\"pointer-events: none;\"><text text-anchor=\"middle\" transform=\"translate(175,31)\" style=\"font-family: sans-serif; font-size: 11px; font-weight: bold; fill: #000; opacity: 1;\">year</text></g></g></g></g></g></g><g transform=\"translate(413,257)\"><path class=\"background\" d=\"M0,0h350v0h-350Z\" style=\"fill: none;\"></path><g><g class=\"mark-group role-axis\"><g transform=\"translate(0.5,0.5)\"><path class=\"background\" d=\"M0,0h0v0h0Z\" style=\"pointer-events: none; fill: none;\"></path><g><g class=\"mark-rule role-axis-tick\" style=\"pointer-events: none;\"><line transform=\"translate(33,0)\" x2=\"0\" y2=\"5\" style=\"fill: none; stroke: #888; stroke-width: 1; opacity: 1;\"></line><line transform=\"translate(69,0)\" x2=\"0\" y2=\"5\" style=\"fill: none; stroke: #888; stroke-width: 1; opacity: 1;\"></line><line transform=\"translate(104,0)\" x2=\"0\" y2=\"5\" style=\"fill: none; stroke: #888; stroke-width: 1; opacity: 1;\"></line><line transform=\"translate(139,0)\" x2=\"0\" y2=\"5\" style=\"fill: none; stroke: #888; stroke-width: 1; opacity: 1;\"></line><line transform=\"translate(174,0)\" x2=\"0\" y2=\"5\" style=\"fill: none; stroke: #888; stroke-width: 1; opacity: 1;\"></line><line transform=\"translate(209,0)\" x2=\"0\" y2=\"5\" style=\"fill: none; stroke: #888; stroke-width: 1; opacity: 1;\"></line><line transform=\"translate(244,0)\" x2=\"0\" y2=\"5\" style=\"fill: none; stroke: #888; stroke-width: 1; opacity: 1;\"></line><line transform=\"translate(280,0)\" x2=\"0\" y2=\"5\" style=\"fill: none; stroke: #888; stroke-width: 1; opacity: 1;\"></line><line transform=\"translate(315,0)\" x2=\"0\" y2=\"5\" style=\"fill: none; stroke: #888; stroke-width: 1; opacity: 1;\"></line><line transform=\"translate(350,0)\" x2=\"0\" y2=\"5\" style=\"fill: none; stroke: #888; stroke-width: 1; opacity: 1;\"></line></g><g class=\"mark-text role-axis-label\" style=\"pointer-events: none;\"><text text-anchor=\"middle\" transform=\"translate(33.41427844200157,15)\" style=\"font-family: sans-serif; font-size: 10px; fill: #000; opacity: 1;\">2020</text><text text-anchor=\"middle\" transform=\"translate(68.59100477415627,15)\" style=\"font-family: sans-serif; font-size: 10px; fill: #000; opacity: 0;\">2040</text><text text-anchor=\"middle\" transform=\"translate(103.76773110631096,15)\" style=\"font-family: sans-serif; font-size: 10px; fill: #000; opacity: 1;\">2060</text><text text-anchor=\"middle\" transform=\"translate(138.94445743846566,15)\" style=\"font-family: sans-serif; font-size: 10px; fill: #000; opacity: 0;\">2080</text><text text-anchor=\"middle\" transform=\"translate(174.12118377062035,15)\" style=\"font-family: sans-serif; font-size: 10px; fill: #000; opacity: 1;\">2100</text><text text-anchor=\"middle\" transform=\"translate(209.29309467138123,15)\" style=\"font-family: sans-serif; font-size: 10px; fill: #000; opacity: 0;\">2120</text><text text-anchor=\"middle\" transform=\"translate(244.4698210035359,15)\" style=\"font-family: sans-serif; font-size: 10px; fill: #000; opacity: 1;\">2140</text><text text-anchor=\"middle\" transform=\"translate(279.6465473356906,15)\" style=\"font-family: sans-serif; font-size: 10px; fill: #000; opacity: 0;\">2160</text><text text-anchor=\"middle\" transform=\"translate(314.8232736678453,15)\" style=\"font-family: sans-serif; font-size: 10px; fill: #000; opacity: 1;\">2180</text><text text-anchor=\"end\" transform=\"translate(350,15)\" style=\"font-family: sans-serif; font-size: 10px; fill: #000; opacity: 0;\">2200</text></g><g class=\"mark-rule role-axis-domain\" style=\"pointer-events: none;\"><line transform=\"translate(0,0)\" x2=\"350\" y2=\"0\" style=\"fill: none; stroke: #888; stroke-width: 1; opacity: 1;\"></line></g><g class=\"mark-text role-axis-title\" style=\"pointer-events: none;\"><text text-anchor=\"middle\" transform=\"translate(175,31)\" style=\"font-family: sans-serif; font-size: 11px; font-weight: bold; fill: #000; opacity: 1;\">year</text></g></g></g></g></g></g><g transform=\"translate(826,257)\"><path class=\"background\" d=\"M0,0h350v0h-350Z\" style=\"fill: none;\"></path><g><g class=\"mark-group role-axis\"><g transform=\"translate(0.5,0.5)\"><path class=\"background\" d=\"M0,0h0v0h0Z\" style=\"pointer-events: none; fill: none;\"></path><g><g class=\"mark-rule role-axis-tick\" style=\"pointer-events: none;\"><line transform=\"translate(33,0)\" x2=\"0\" y2=\"5\" style=\"fill: none; stroke: #888; stroke-width: 1; opacity: 1;\"></line><line transform=\"translate(69,0)\" x2=\"0\" y2=\"5\" style=\"fill: none; stroke: #888; stroke-width: 1; opacity: 1;\"></line><line transform=\"translate(104,0)\" x2=\"0\" y2=\"5\" style=\"fill: none; stroke: #888; stroke-width: 1; opacity: 1;\"></line><line transform=\"translate(139,0)\" x2=\"0\" y2=\"5\" style=\"fill: none; stroke: #888; stroke-width: 1; opacity: 1;\"></line><line transform=\"translate(174,0)\" x2=\"0\" y2=\"5\" style=\"fill: none; stroke: #888; stroke-width: 1; opacity: 1;\"></line><line transform=\"translate(209,0)\" x2=\"0\" y2=\"5\" style=\"fill: none; stroke: #888; stroke-width: 1; opacity: 1;\"></line><line transform=\"translate(244,0)\" x2=\"0\" y2=\"5\" style=\"fill: none; stroke: #888; stroke-width: 1; opacity: 1;\"></line><line transform=\"translate(280,0)\" x2=\"0\" y2=\"5\" style=\"fill: none; stroke: #888; stroke-width: 1; opacity: 1;\"></line><line transform=\"translate(315,0)\" x2=\"0\" y2=\"5\" style=\"fill: none; stroke: #888; stroke-width: 1; opacity: 1;\"></line><line transform=\"translate(350,0)\" x2=\"0\" y2=\"5\" style=\"fill: none; stroke: #888; stroke-width: 1; opacity: 1;\"></line></g><g class=\"mark-text role-axis-label\" style=\"pointer-events: none;\"><text text-anchor=\"middle\" transform=\"translate(33.41427844200157,15)\" style=\"font-family: sans-serif; font-size: 10px; fill: #000; opacity: 1;\">2020</text><text text-anchor=\"middle\" transform=\"translate(68.59100477415627,15)\" style=\"font-family: sans-serif; font-size: 10px; fill: #000; opacity: 0;\">2040</text><text text-anchor=\"middle\" transform=\"translate(103.76773110631096,15)\" style=\"font-family: sans-serif; font-size: 10px; fill: #000; opacity: 1;\">2060</text><text text-anchor=\"middle\" transform=\"translate(138.94445743846566,15)\" style=\"font-family: sans-serif; font-size: 10px; fill: #000; opacity: 0;\">2080</text><text text-anchor=\"middle\" transform=\"translate(174.12118377062035,15)\" style=\"font-family: sans-serif; font-size: 10px; fill: #000; opacity: 1;\">2100</text><text text-anchor=\"middle\" transform=\"translate(209.29309467138123,15)\" style=\"font-family: sans-serif; font-size: 10px; fill: #000; opacity: 0;\">2120</text><text text-anchor=\"middle\" transform=\"translate(244.4698210035359,15)\" style=\"font-family: sans-serif; font-size: 10px; fill: #000; opacity: 1;\">2140</text><text text-anchor=\"middle\" transform=\"translate(279.6465473356906,15)\" style=\"font-family: sans-serif; font-size: 10px; fill: #000; opacity: 0;\">2160</text><text text-anchor=\"middle\" transform=\"translate(314.8232736678453,15)\" style=\"font-family: sans-serif; font-size: 10px; fill: #000; opacity: 1;\">2180</text><text text-anchor=\"end\" transform=\"translate(350,15)\" style=\"font-family: sans-serif; font-size: 10px; fill: #000; opacity: 0;\">2200</text></g><g class=\"mark-rule role-axis-domain\" style=\"pointer-events: none;\"><line transform=\"translate(0,0)\" x2=\"350\" y2=\"0\" style=\"fill: none; stroke: #888; stroke-width: 1; opacity: 1;\"></line></g><g class=\"mark-text role-axis-title\" style=\"pointer-events: none;\"><text text-anchor=\"middle\" transform=\"translate(175,31)\" style=\"font-family: sans-serif; font-size: 11px; font-weight: bold; fill: #000; opacity: 1;\">year</text></g></g></g></g></g></g></g><g class=\"mark-group role-scope cell\"><g transform=\"translate(0,0)\"><path class=\"background\" d=\"M0.5,0.5h350v250h-350Z\" style=\"fill: none; stroke: #ddd;\"></path><g><g class=\"mark-group role-axis\"><g transform=\"translate(0.5,250.5)\"><path class=\"background\" d=\"M0,0h0v0h0Z\" style=\"pointer-events: none; fill: none;\"></path><g><g class=\"mark-rule role-axis-grid\" style=\"pointer-events: none;\"><line transform=\"translate(33,-250)\" x2=\"0\" y2=\"250\" style=\"fill: none; stroke: #ddd; stroke-width: 1; opacity: 1;\"></line><line transform=\"translate(69,-250)\" x2=\"0\" y2=\"250\" style=\"fill: none; stroke: #ddd; stroke-width: 1; opacity: 1;\"></line><line transform=\"translate(104,-250)\" x2=\"0\" y2=\"250\" style=\"fill: none; stroke: #ddd; stroke-width: 1; opacity: 1;\"></line><line transform=\"translate(139,-250)\" x2=\"0\" y2=\"250\" style=\"fill: none; stroke: #ddd; stroke-width: 1; opacity: 1;\"></line><line transform=\"translate(174,-250)\" x2=\"0\" y2=\"250\" style=\"fill: none; stroke: #ddd; stroke-width: 1; opacity: 1;\"></line><line transform=\"translate(209,-250)\" x2=\"0\" y2=\"250\" style=\"fill: none; stroke: #ddd; stroke-width: 1; opacity: 1;\"></line><line transform=\"translate(244,-250)\" x2=\"0\" y2=\"250\" style=\"fill: none; stroke: #ddd; stroke-width: 1; opacity: 1;\"></line><line transform=\"translate(280,-250)\" x2=\"0\" y2=\"250\" style=\"fill: none; stroke: #ddd; stroke-width: 1; opacity: 1;\"></line><line transform=\"translate(315,-250)\" x2=\"0\" y2=\"250\" style=\"fill: none; stroke: #ddd; stroke-width: 1; opacity: 1;\"></line><line transform=\"translate(350,-250)\" x2=\"0\" y2=\"250\" style=\"fill: none; stroke: #ddd; stroke-width: 1; opacity: 1;\"></line></g></g></g></g><g class=\"mark-group role-axis\"><g transform=\"translate(0.5,0.5)\"><path class=\"background\" d=\"M0,0h0v0h0Z\" style=\"pointer-events: none; fill: none;\"></path><g><g class=\"mark-rule role-axis-grid\" style=\"pointer-events: none;\"><line transform=\"translate(0,250)\" x2=\"350\" y2=\"0\" style=\"fill: none; stroke: #ddd; stroke-width: 1; opacity: 1;\"></line><line transform=\"translate(0,205)\" x2=\"350\" y2=\"0\" style=\"fill: none; stroke: #ddd; stroke-width: 1; opacity: 1;\"></line><line transform=\"translate(0,159)\" x2=\"350\" y2=\"0\" style=\"fill: none; stroke: #ddd; stroke-width: 1; opacity: 1;\"></line><line transform=\"translate(0,114)\" x2=\"350\" y2=\"0\" style=\"fill: none; stroke: #ddd; stroke-width: 1; opacity: 1;\"></line><line transform=\"translate(0,68)\" x2=\"350\" y2=\"0\" style=\"fill: none; stroke: #ddd; stroke-width: 1; opacity: 1;\"></line><line transform=\"translate(0,23)\" x2=\"350\" y2=\"0\" style=\"fill: none; stroke: #ddd; stroke-width: 1; opacity: 1;\"></line></g></g></g></g><g class=\"mark-group role-scope child_pathgroup\"><g transform=\"translate(0,0)\"><path class=\"background\" d=\"M0,0h350v250h-350Z\" style=\"fill: none;\"></path><g><g class=\"mark-line role-mark child_marks\"><path d=\"M350,17.577522727272765L348.2423675412407,17.469568181818204L346.48473508248145,17.361681818181836L344.7271026237222,17.26129545454546L342.9646547335691,17.175227272727284L341.2070222748098,17.096181818181833L339.44938981605054,17.01402272727273L337.69175735729124,16.92752272727273L335.9293094671381,16.834931818181815L334.1716770083789,16.732840909090925L332.4140445496196,16.617272727272763L330.65641209086033,16.489090909090947L328.89396420070716,16.354431818181865L327.1363317419479,16.219545454545454L325.37869928318867,16.091818181818212L323.62106682442936,15.978045454545452L321.85861893427625,15.870909090909095L320.10098647551695,15.760227272727263L318.3433540167577,15.64481818181821L316.5857215579984,15.522931818181831L314.8232736678453,15.39120454545457L313.06564120908604,15.245704545454544L311.3080087503268,15.087272727272733L309.5503762915675,14.922068181818219L307.7879284014144,14.756249999999994L306.0302959426551,14.597136363636395L304.2726634838958,14.45152272727276L302.5150310251366,14.312068181818177L300.7525831349834,14.168568181818216L298.99495067622416,14.019886363636374L297.23731821746486,13.86427272727272L295.4796857587056,13.698454545454581L293.71723786855244,13.518522727272767L291.95960540979326,13.325295454545483L290.20197295103395,13.124886363636392L288.44434049227465,12.923340909090939L286.68189260212154,12.727909090909122L284.92426014336223,12.545318181818175L283.166627684603,12.36829545454546L281.40899522584374,12.186636363636381L279.6465473356906,11.999181818181825L277.8889148769313,11.804318181818246L276.1312824181721,11.598750000000024L274.3736499594128,11.378613636363667L272.61120206925966,11.144704545454545L270.8535696105004,10.902977272727298L269.0959371517411,10.659340909090929L267.33830469298186,10.420886363636384L265.5758568028287,10.194318181818204L263.81822434406945,9.972386363636389L262.0605918853102,9.746636363636412L260.3029594265509,9.51779545454545L258.5405115363978,9.284431818181844L256.78287907763854,9.043477272727273L255.02524661887924,8.791318181818184L253.26761416011996,8.528750000000002L251.50516626996685,8.261909090909114L249.74753381120757,7.996727272727298L247.98990135244833,7.740363636363668L246.23226889368902,7.499840909090949L244.4698210035359,7.268295454545495L242.71218854477664,7.035795454545507L240.95455608601733,6.801522727272754L239.1969236272581,6.5642727272727655L237.43447573710495,6.321318181818214L235.6768432783457,6.069136363636403L233.91921081958643,5.808772727272753L232.16157836082718,5.546386363636373L230.399130470674,5.288045454545511L228.64149801191476,5.040954545454525L226.8838655531555,4.812431818181807L225.1262330943962,4.596022727272754L223.36378520424307,4.382159090909141L221.6061527454838,4.170386363636396L219.84852028672455,3.9599318181818433L218.09088782796528,3.7485681818182L216.32843993781216,3.533318181818231L214.57080747905286,3.3155681818182074L212.8131750202936,3.1019318181818676L211.05554256153434,2.8988636363636715L209.29309467138123,2.7140454545454418L207.53546221262192,2.555454545454552L205.77782975386265,2.417477272727325L204.0201972951034,2.291318181818184L202.25774940495026,2.1774545454545944L200.500116946191,2.076090909090908L198.7424844874317,1.9861136363636263L196.98485202867244,1.9056590909090971L195.22240413851932,1.83725000000004L193.46477167976008,1.7886818181818285L191.7071392210008,1.7676363636363988L189.9495067622415,1.783068181818237L188.1870588720884,1.8445681818182038L186.4294264133291,1.9484545454545525L184.67179395456986,2.0880000000000223L182.91416149581056,2.2657272727272755L181.15171360565745,2.484227272727253L179.39408114689817,2.7450227272727545L177.6364486881389,3.049000000000035L175.87881622937965,3.401613636363635L174.12118377062035,3.7962727272727363L172.3635513118611,4.225295454545488L170.60591885310183,4.6980000000000075L168.84828639434255,5.224454545454535L167.08583850418944,5.801727272727277L165.32820604543016,6.423818181818206L163.5705735866709,7.0940000000000225L161.8129411279116,7.815704545454537L160.05049323775847,8.591318181818195L158.2928607789992,9.422727272727286L156.53522832023995,10.279931818181808L154.77759586148068,11.135159090909127L153.01514797132754,11.993409090909125L151.2575155125683,12.860227272727286L149.49988305380901,13.742068181818183L147.74225059504974,14.632590909090936L145.97980270489663,15.522000000000048L144.22217024613732,16.409136363636378L142.46453778737808,17.292636363636404L140.7069053286188,18.16986363636363L138.94445743846566,19.047022727272775L137.1868249797064,19.934659090909093L135.42919252094714,20.838909090909112L133.67156006218784,21.765931818181883L131.90911217203472,22.722840909090905L130.15147971327545,23.71780000000001L128.39384725451617,24.74695454545457L126.63621479575691,25.803177272727254L124.87376690560379,26.887904545454575L123.11613444684451,28.00260000000003L121.35850198808525,29.15548181818184L119.60086952932596,30.354779545454562L117.83842163917285,31.60542954545457L116.08078918041359,32.91718181818183L114.3231567216543,34.29980454545455L112.56552426289504,35.764327272727286L110.8030763727419,37.32341136363638L109.04544391398264,38.97871818181818L107.28781145522336,40.729202272727264L105.5301789964641,42.582602272727286L103.76773110631096,44.50823636363637L102.0100986475517,46.471354545454574L100.25246618879243,48.47204318181818L98.49483373003315,50.51380909090912L96.73238583988004,52.60466136363641L94.97475338112075,54.75248863636364L93.21712092236149,56.96621363636365L91.45948846360223,59.25633181818182L89.69704057344909,61.622993181818174L87.93940811468983,64.06352954545454L86.18177565593055,66.53832727272729L84.42414319717128,69.00393409090913L82.66169530701815,71.45648409090913L80.90406284825887,73.89072727272728L79.1464303894996,76.30407954545456L77.38879793074034,78.69753409090913L75.6263500405872,81.07133181818182L73.86871758182794,83.42592727272731L72.11108512306866,85.76258409090909L70.3534526643094,88.07219772727274L68.59100477415627,90.34761363636366L66.833372315397,92.58886590909094L65.07573985663772,94.79054545454545L63.31810739787846,96.94577045454545L61.55565950772533,99.0462590909091L59.798027048966055,101.08579318181822L58.040394590206795,103.06110454545455L56.28276213144752,104.96780000000001L54.52031424129439,106.8012590909091L52.76268178253512,108.55740454545457L51.00504932377585,110.27183181818182L49.247416865016575,111.98090227272729L47.48496897486345,113.68222272727272L45.727336516104174,115.37345000000002L43.96970405734491,117.0512159090909L42.21207159858564,118.71112727272728L40.44962370843251,120.35101590909093L38.69199124967324,121.97183409090908L36.93435879091397,123.57389999999998L35.1767263321547,125.15783409090909L33.41427844200157,126.71847272727273L31.6566459832423,128.24078863636365L29.899013524483028,129.71231590909093L28.14138106572376,131.12617272727275L26.378933175570626,132.47490000000002L24.62130071681136,133.74961136363638L22.863668258052087,134.93992954545456L21.10603579929282,136.03703181818184L19.34358790913969,137.03448863636362L17.585955450380418,137.9244681818182L15.82832299162115,138.71300454545454L14.07069053286188,139.40886590909093L12.308242642708748,140.00382045454546L10.55061018394948,140.45982954545457L8.792977725190209,140.7601340909091L7.03534526643094,140.82619545454546L5.272897376277808,140.71310454545454L3.5152649175185395,140.7390431818182L1.7576324587592698,140.9578659090909L0,141.08379545454545\" style=\"fill: none; stroke: #f58518; stroke-width: 2;\"></path></g></g></g><g transform=\"translate(0,0)\"><path class=\"background\" d=\"M0,0h350v250h-350Z\" style=\"fill: none;\"></path><g><g class=\"mark-line role-mark child_marks\"><path d=\"M350,130.56324664721038L262.0605918853102,130.4518111049929L174.12118377062035,117.7019836762739L130.15147971327545,95.20172125832465L86.18177565593055,83.78738536581727L68.59100477415627,85.73262262293784L51.00504932377585,93.8957190054559L33.41427844200157,107.33608215692871L15.82832299162115,121.76623860944218L14.07069053286188,123.37475377567253\" style=\"fill: none; stroke: #4c78a8; stroke-width: 2;\"></path></g></g></g></g><g class=\"mark-group role-axis\"><g transform=\"translate(0.5,0.5)\"><path class=\"background\" d=\"M0,0h0v0h0Z\" style=\"pointer-events: none; fill: none;\"></path><g><g class=\"mark-rule role-axis-tick\" style=\"pointer-events: none;\"><line transform=\"translate(0,250)\" x2=\"-5\" y2=\"0\" style=\"fill: none; stroke: #888; stroke-width: 1; opacity: 1;\"></line><line transform=\"translate(0,205)\" x2=\"-5\" y2=\"0\" style=\"fill: none; stroke: #888; stroke-width: 1; opacity: 1;\"></line><line transform=\"translate(0,159)\" x2=\"-5\" y2=\"0\" style=\"fill: none; stroke: #888; stroke-width: 1; opacity: 1;\"></line><line transform=\"translate(0,114)\" x2=\"-5\" y2=\"0\" style=\"fill: none; stroke: #888; stroke-width: 1; opacity: 1;\"></line><line transform=\"translate(0,68)\" x2=\"-5\" y2=\"0\" style=\"fill: none; stroke: #888; stroke-width: 1; opacity: 1;\"></line><line transform=\"translate(0,23)\" x2=\"-5\" y2=\"0\" style=\"fill: none; stroke: #888; stroke-width: 1; opacity: 1;\"></line></g><g class=\"mark-text role-axis-label\" style=\"pointer-events: none;\"><text text-anchor=\"end\" transform=\"translate(-7,253)\" style=\"font-family: sans-serif; font-size: 10px; fill: #000; opacity: 1;\">0.0</text><text text-anchor=\"end\" transform=\"translate(-7,207.54545454545456)\" style=\"font-family: sans-serif; font-size: 10px; fill: #000; opacity: 1;\">0.2</text><text text-anchor=\"end\" transform=\"translate(-7,162.0909090909091)\" style=\"font-family: sans-serif; font-size: 10px; fill: #000; opacity: 1;\">0.4</text><text text-anchor=\"end\" transform=\"translate(-7,116.63636363636365)\" style=\"font-family: sans-serif; font-size: 10px; fill: #000; opacity: 1;\">0.6</text><text text-anchor=\"end\" transform=\"translate(-7,71.18181818181819)\" style=\"font-family: sans-serif; font-size: 10px; fill: #000; opacity: 1;\">0.8</text><text text-anchor=\"end\" transform=\"translate(-7,25.727272727272748)\" style=\"font-family: sans-serif; font-size: 10px; fill: #000; opacity: 1;\">1.0</text></g><g class=\"mark-rule role-axis-domain\" style=\"pointer-events: none;\"><line transform=\"translate(0,250)\" x2=\"0\" y2=\"-250\" style=\"fill: none; stroke: #888; stroke-width: 1; opacity: 1;\"></line></g><g class=\"mark-text role-axis-title\" style=\"pointer-events: none;\"><text text-anchor=\"middle\" transform=\"translate(-36,125) rotate(-90) translate(0,-2)\" style=\"font-family: sans-serif; font-size: 11px; font-weight: bold; fill: #000; opacity: 1;\">W/m²</text></g></g></g></g></g></g><g transform=\"translate(413,0)\"><path class=\"background\" d=\"M0.5,0.5h350v250h-350Z\" style=\"fill: none; stroke: #ddd;\"></path><g><g class=\"mark-group role-axis\"><g transform=\"translate(0.5,250.5)\"><path class=\"background\" d=\"M0,0h0v0h0Z\" style=\"pointer-events: none; fill: none;\"></path><g><g class=\"mark-rule role-axis-grid\" style=\"pointer-events: none;\"><line transform=\"translate(33,-250)\" x2=\"0\" y2=\"250\" style=\"fill: none; stroke: #ddd; stroke-width: 1; opacity: 1;\"></line><line transform=\"translate(69,-250)\" x2=\"0\" y2=\"250\" style=\"fill: none; stroke: #ddd; stroke-width: 1; opacity: 1;\"></line><line transform=\"translate(104,-250)\" x2=\"0\" y2=\"250\" style=\"fill: none; stroke: #ddd; stroke-width: 1; opacity: 1;\"></line><line transform=\"translate(139,-250)\" x2=\"0\" y2=\"250\" style=\"fill: none; stroke: #ddd; stroke-width: 1; opacity: 1;\"></line><line transform=\"translate(174,-250)\" x2=\"0\" y2=\"250\" style=\"fill: none; stroke: #ddd; stroke-width: 1; opacity: 1;\"></line><line transform=\"translate(209,-250)\" x2=\"0\" y2=\"250\" style=\"fill: none; stroke: #ddd; stroke-width: 1; opacity: 1;\"></line><line transform=\"translate(244,-250)\" x2=\"0\" y2=\"250\" style=\"fill: none; stroke: #ddd; stroke-width: 1; opacity: 1;\"></line><line transform=\"translate(280,-250)\" x2=\"0\" y2=\"250\" style=\"fill: none; stroke: #ddd; stroke-width: 1; opacity: 1;\"></line><line transform=\"translate(315,-250)\" x2=\"0\" y2=\"250\" style=\"fill: none; stroke: #ddd; stroke-width: 1; opacity: 1;\"></line><line transform=\"translate(350,-250)\" x2=\"0\" y2=\"250\" style=\"fill: none; stroke: #ddd; stroke-width: 1; opacity: 1;\"></line></g></g></g></g><g class=\"mark-group role-axis\"><g transform=\"translate(0.5,0.5)\"><path class=\"background\" d=\"M0,0h0v0h0Z\" style=\"pointer-events: none; fill: none;\"></path><g><g class=\"mark-rule role-axis-grid\" style=\"pointer-events: none;\"><line transform=\"translate(0,250)\" x2=\"350\" y2=\"0\" style=\"fill: none; stroke: #ddd; stroke-width: 1; opacity: 1;\"></line><line transform=\"translate(0,205)\" x2=\"350\" y2=\"0\" style=\"fill: none; stroke: #ddd; stroke-width: 1; opacity: 1;\"></line><line transform=\"translate(0,159)\" x2=\"350\" y2=\"0\" style=\"fill: none; stroke: #ddd; stroke-width: 1; opacity: 1;\"></line><line transform=\"translate(0,114)\" x2=\"350\" y2=\"0\" style=\"fill: none; stroke: #ddd; stroke-width: 1; opacity: 1;\"></line><line transform=\"translate(0,68)\" x2=\"350\" y2=\"0\" style=\"fill: none; stroke: #ddd; stroke-width: 1; opacity: 1;\"></line><line transform=\"translate(0,23)\" x2=\"350\" y2=\"0\" style=\"fill: none; stroke: #ddd; stroke-width: 1; opacity: 1;\"></line></g></g></g></g><g class=\"mark-group role-scope child_pathgroup\"><g transform=\"translate(0,0)\"><path class=\"background\" d=\"M0,0h350v250h-350Z\" style=\"fill: none;\"></path><g><g class=\"mark-line role-mark child_marks\"><path d=\"M350,20.39627272727273L348.2423675412407,20.75634090909091L346.48473508248145,21.12427272727271L344.7271026237222,21.501022727272726L342.9646547335691,21.890022727272736L341.2070222748098,22.290181818181793L339.44938981605054,22.698840909090904L337.69175735729124,23.117215909090902L335.9293094671381,23.544431818181806L334.1716770083789,23.97902727272728L332.4140445496196,24.420252272727254L330.65641209086033,24.867579545454532L328.89396420070716,25.32121590909088L327.1363317419479,25.783156818181823L325.37869928318867,26.257288636363654L323.62106682442936,26.743124999999992L321.85861893427625,27.239852272727262L320.10098647551695,27.74839545454543L318.3433540167577,28.266572727272745L316.5857215579984,28.793679545454523L314.8232736678453,29.329313636363622L313.06564120908604,29.872268181818185L311.3080087503268,30.42262272727274L309.5503762915675,30.97992500000001L307.7879284014144,31.545543181818147L306.0302959426551,32.124534090909066L304.2726634838958,32.718143181818164L302.5150310251366,33.32372045454545L300.7525831349834,33.94008636363634L298.99495067622416,34.567211363636346L297.23731821746486,35.20475227272726L295.4796857587056,35.852161363636355L293.71723786855244,36.50935000000001L291.95960540979326,37.17595227272727L290.20197295103395,37.85040454545455L288.44434049227465,38.53325909090907L286.68189260212154,39.23206136363635L284.92426014336223,39.94706363636362L283.166627684603,40.67412954545455L281.40899522584374,41.41449318181819L279.6465473356906,42.167804545454516L277.8889148769313,42.93338409090907L276.1312824181721,43.71037954545454L274.3736499594128,44.49901363636363L272.61120206925966,45.29983636363636L270.8535696105004,46.110447727272714L269.0959371517411,46.93197272727275L267.33830469298186,47.77137499999998L265.5758568028287,48.62967500000002L263.81822434406945,49.50315454545455L262.0605918853102,50.38828409090908L260.3029594265509,51.28090454545455L258.5405115363978,52.17785454545458L256.78287907763854,53.07807272727271L255.02524661887924,53.98146363636363L253.26761416011996,54.886193181818186L251.50516626996685,55.79296136363638L249.74753381120757,56.70448636363636L247.98990135244833,57.62346818181817L246.23226889368902,58.55106363636364L244.4698210035359,59.486104545454566L242.71218854477664,60.42729772727273L240.95455608601733,61.37447272727272L239.1969236272581,62.32824772727275L237.43447573710495,63.28666363636364L235.6768432783457,64.24707954545454L233.91921081958643,65.21063863636363L232.16157836082718,66.17810681818182L230.399130470674,67.14882272727272L228.64149801191476,68.12654318181819L226.8838655531555,69.11483181818181L225.1262330943962,70.11025454545455L223.36378520424307,71.11412045454546L221.6061527454838,72.12681818181818L219.84852028672455,73.14390681818182L218.09088782796528,74.1652409090909L216.32843993781216,75.19162954545456L214.57080747905286,76.22214318181818L212.8131750202936,77.25489999999999L211.05554256153434,78.29232727272728L209.29309467138123,79.33971590909093L207.53546221262192,80.39668863636365L205.77782975386265,81.46169772727274L204.0201972951034,82.53727954545454L202.25774940495026,83.62066818181819L200.500116946191,84.71042045454544L198.7424844874317,85.80746136363638L196.98485202867244,86.90796818181818L195.22240413851932,88.01339318181817L193.46477167976008,89.12392272727274L191.7071392210008,90.23935227272727L189.9495067622415,91.36548181818182L188.1870588720884,92.50182727272727L186.4294264133291,93.64872727272729L184.67179395456986,94.80656136363638L182.91416149581056,95.97233409090907L181.15171360565745,97.14652272727272L179.39408114689817,98.32737045454544L177.6364486881389,99.51613181818183L175.87881622937965,100.71160454545455L174.12118377062035,101.90902499999999L172.3635513118611,103.11197954545455L170.60591885310183,104.32493636363637L168.84828639434255,105.54860454545454L167.08583850418944,106.78226818181818L165.32820604543016,108.0255340909091L163.5705735866709,109.27816136363634L161.8129411279116,110.53967272727272L160.05049323775847,111.80922272727273L158.2928607789992,113.08499999999998L156.53522832023995,114.36276818181821L154.77759586148068,115.64366136363634L153.01514797132754,116.930825L151.2575155125683,118.22227954545457L149.49988305380901,119.52348863636365L147.74225059504974,120.836975L145.97980270489663,122.15822045454547L144.22217024613732,123.4879818181818L142.46453778737808,124.82656363636366L140.7069053286188,126.17257727272727L138.94445743846566,127.52276590909091L137.1868249797064,128.8743909090909L135.42919252094714,130.22532954545454L133.67156006218784,131.58087272727272L131.90911217203472,132.94389318181817L130.15147971327545,134.3138659090909L128.39384725451617,135.69315L126.63621479575691,137.0801909090909L124.87376690560379,138.47529090909092L123.11613444684451,139.8786659090909L121.35850198808525,141.28563636363634L119.60086952932596,142.69019772727273L117.83842163917285,144.09037727272727L116.08078918041359,145.4857818181818L114.3231567216543,146.878425L112.56552426289504,148.27132045454545L110.8030763727419,149.66757954545454L109.04544391398264,151.06742954545456L107.28781145522336,152.46926818181817L105.5301789964641,153.87357500000002L103.76773110631096,155.27556590909091L102.0100986475517,156.66898863636362L100.25246618879243,158.05117727272727L98.49483373003315,159.41994772727273L96.73238583988004,160.77489772727273L94.97475338112075,162.11642272727272L93.21712092236149,163.44636363636363L91.45948846360223,164.7686477272727L89.69704057344909,166.08328181818183L87.93940811468983,167.38769318181818L86.18177565593055,168.68133181818183L84.42414319717128,169.96348636363635L82.66169530701815,171.23250227272726L80.90406284825887,172.4854181818182L79.1464303894996,173.71977727272724L77.38879793074034,174.93481136363636L75.6263500405872,176.13076363636364L73.86871758182794,177.30950681818183L72.11108512306866,178.474625L70.3534526643094,179.6257477272727L68.59100477415627,180.7629159090909L66.833372315397,181.88856136363637L65.07573985663772,183.00219545454544L63.31810739787846,184.10219545454544L61.55565950772533,185.18548863636363L59.798027048966055,186.24953181818182L58.040394590206795,187.2935318181818L56.28276213144752,188.31737045454545L54.52031424129439,189.3230159090909L52.76268178253512,190.31458409090908L51.00504932377585,191.29678409090909L49.247416865016575,192.27202045454544L47.48496897486345,193.2402818181818L45.727336516104174,194.201375L43.96970405734491,195.15392954545456L42.21207159858564,196.09512727272727L40.44962370843251,197.02262045454546L38.69199124967324,197.93584545454547L36.93435879091397,198.8351181818182L35.1767263321547,199.723025L33.41427844200157,200.6022409090909L31.6566459832423,201.47094545454547L29.899013524483028,202.32684772727274L28.14138106572376,203.16987272727272L26.378933175570626,203.99969318181817L24.62130071681136,204.81478863636363L22.863668258052087,205.61209545454545L21.10603579929282,206.38897045454547L19.34358790913969,207.1445909090909L17.585955450380418,207.87867727272726L15.82832299162115,208.5995L14.07069053286188,209.32403181818182L12.308242642708748,210.02128636363636L10.55061018394948,210.66227954545457L8.792977725190209,211.28357499999998L7.03534526643094,211.92897727272728L5.272897376277808,212.57286590909092L3.5152649175185395,213.23739772727274L1.7576324587592698,213.96592045454545L0,214.6386159090909\" style=\"fill: none; stroke: #f58518; stroke-width: 2;\"></path></g></g></g><g transform=\"translate(0,0)\"><path class=\"background\" d=\"M0,0h350v250h-350Z\" style=\"fill: none;\"></path><g><g class=\"mark-line role-mark child_marks\"><path d=\"M350,101.3118726470926L262.0605918853102,120.18924265272778L174.12118377062035,137.81852363905693L130.15147971327545,154.55108013615194L86.18177565593055,172.37010912965746L68.59100477415627,182.2210859824857L51.00504932377585,191.89534715546654L33.41427844200157,201.14624474683973L15.82832299162115,209.00001941885563L14.07069053286188,209.81718440454122\" style=\"fill: none; stroke: #4c78a8; stroke-width: 2;\"></path></g></g></g></g><g class=\"mark-group role-axis\"><g transform=\"translate(0.5,0.5)\"><path class=\"background\" d=\"M0,0h0v0h0Z\" style=\"pointer-events: none; fill: none;\"></path><g><g class=\"mark-rule role-axis-tick\" style=\"pointer-events: none;\"><line transform=\"translate(0,250)\" x2=\"-5\" y2=\"0\" style=\"fill: none; stroke: #888; stroke-width: 1; opacity: 1;\"></line><line transform=\"translate(0,205)\" x2=\"-5\" y2=\"0\" style=\"fill: none; stroke: #888; stroke-width: 1; opacity: 1;\"></line><line transform=\"translate(0,159)\" x2=\"-5\" y2=\"0\" style=\"fill: none; stroke: #888; stroke-width: 1; opacity: 1;\"></line><line transform=\"translate(0,114)\" x2=\"-5\" y2=\"0\" style=\"fill: none; stroke: #888; stroke-width: 1; opacity: 1;\"></line><line transform=\"translate(0,68)\" x2=\"-5\" y2=\"0\" style=\"fill: none; stroke: #888; stroke-width: 1; opacity: 1;\"></line><line transform=\"translate(0,23)\" x2=\"-5\" y2=\"0\" style=\"fill: none; stroke: #888; stroke-width: 1; opacity: 1;\"></line></g><g class=\"mark-text role-axis-label\" style=\"pointer-events: none;\"><text text-anchor=\"end\" transform=\"translate(-7,253)\" style=\"font-family: sans-serif; font-size: 10px; fill: #000; opacity: 1;\">0</text><text text-anchor=\"end\" transform=\"translate(-7,207.54545454545456)\" style=\"font-family: sans-serif; font-size: 10px; fill: #000; opacity: 1;\">2</text><text text-anchor=\"end\" transform=\"translate(-7,162.0909090909091)\" style=\"font-family: sans-serif; font-size: 10px; fill: #000; opacity: 1;\">4</text><text text-anchor=\"end\" transform=\"translate(-7,116.63636363636365)\" style=\"font-family: sans-serif; font-size: 10px; fill: #000; opacity: 1;\">6</text><text text-anchor=\"end\" transform=\"translate(-7,71.18181818181819)\" style=\"font-family: sans-serif; font-size: 10px; fill: #000; opacity: 1;\">8</text><text text-anchor=\"end\" transform=\"translate(-7,25.727272727272748)\" style=\"font-family: sans-serif; font-size: 10px; fill: #000; opacity: 1;\">10</text></g><g class=\"mark-rule role-axis-domain\" style=\"pointer-events: none;\"><line transform=\"translate(0,250)\" x2=\"0\" y2=\"-250\" style=\"fill: none; stroke: #888; stroke-width: 1; opacity: 1;\"></line></g><g class=\"mark-text role-axis-title\" style=\"pointer-events: none;\"><text text-anchor=\"middle\" transform=\"translate(-34,125) rotate(-90) translate(0,-2)\" style=\"font-family: sans-serif; font-size: 11px; font-weight: bold; fill: #000; opacity: 1;\">W/m²</text></g></g></g></g></g></g><g transform=\"translate(826,0)\"><path class=\"background\" d=\"M0.5,0.5h350v250h-350Z\" style=\"fill: none; stroke: #ddd;\"></path><g><g class=\"mark-group role-axis\"><g transform=\"translate(0.5,250.5)\"><path class=\"background\" d=\"M0,0h0v0h0Z\" style=\"pointer-events: none; fill: none;\"></path><g><g class=\"mark-rule role-axis-grid\" style=\"pointer-events: none;\"><line transform=\"translate(33,-250)\" x2=\"0\" y2=\"250\" style=\"fill: none; stroke: #ddd; stroke-width: 1; opacity: 1;\"></line><line transform=\"translate(69,-250)\" x2=\"0\" y2=\"250\" style=\"fill: none; stroke: #ddd; stroke-width: 1; opacity: 1;\"></line><line transform=\"translate(104,-250)\" x2=\"0\" y2=\"250\" style=\"fill: none; stroke: #ddd; stroke-width: 1; opacity: 1;\"></line><line transform=\"translate(139,-250)\" x2=\"0\" y2=\"250\" style=\"fill: none; stroke: #ddd; stroke-width: 1; opacity: 1;\"></line><line transform=\"translate(174,-250)\" x2=\"0\" y2=\"250\" style=\"fill: none; stroke: #ddd; stroke-width: 1; opacity: 1;\"></line><line transform=\"translate(209,-250)\" x2=\"0\" y2=\"250\" style=\"fill: none; stroke: #ddd; stroke-width: 1; opacity: 1;\"></line><line transform=\"translate(244,-250)\" x2=\"0\" y2=\"250\" style=\"fill: none; stroke: #ddd; stroke-width: 1; opacity: 1;\"></line><line transform=\"translate(280,-250)\" x2=\"0\" y2=\"250\" style=\"fill: none; stroke: #ddd; stroke-width: 1; opacity: 1;\"></line><line transform=\"translate(315,-250)\" x2=\"0\" y2=\"250\" style=\"fill: none; stroke: #ddd; stroke-width: 1; opacity: 1;\"></line><line transform=\"translate(350,-250)\" x2=\"0\" y2=\"250\" style=\"fill: none; stroke: #ddd; stroke-width: 1; opacity: 1;\"></line></g></g></g></g><g class=\"mark-group role-axis\"><g transform=\"translate(0.5,0.5)\"><path class=\"background\" d=\"M0,0h0v0h0Z\" style=\"pointer-events: none; fill: none;\"></path><g><g class=\"mark-rule role-axis-grid\" style=\"pointer-events: none;\"><line transform=\"translate(0,250)\" x2=\"350\" y2=\"0\" style=\"fill: none; stroke: #ddd; stroke-width: 1; opacity: 1;\"></line><line transform=\"translate(0,219)\" x2=\"350\" y2=\"0\" style=\"fill: none; stroke: #ddd; stroke-width: 1; opacity: 1;\"></line><line transform=\"translate(0,188)\" x2=\"350\" y2=\"0\" style=\"fill: none; stroke: #ddd; stroke-width: 1; opacity: 1;\"></line><line transform=\"translate(0,156)\" x2=\"350\" y2=\"0\" style=\"fill: none; stroke: #ddd; stroke-width: 1; opacity: 1;\"></line><line transform=\"translate(0,125)\" x2=\"350\" y2=\"0\" style=\"fill: none; stroke: #ddd; stroke-width: 1; opacity: 1;\"></line><line transform=\"translate(0,94)\" x2=\"350\" y2=\"0\" style=\"fill: none; stroke: #ddd; stroke-width: 1; opacity: 1;\"></line><line transform=\"translate(0,63)\" x2=\"350\" y2=\"0\" style=\"fill: none; stroke: #ddd; stroke-width: 1; opacity: 1;\"></line><line transform=\"translate(0,31)\" x2=\"350\" y2=\"0\" style=\"fill: none; stroke: #ddd; stroke-width: 1; opacity: 1;\"></line><line transform=\"translate(0,0)\" x2=\"350\" y2=\"0\" style=\"fill: none; stroke: #ddd; stroke-width: 1; opacity: 1;\"></line></g></g></g></g><g class=\"mark-group role-scope child_pathgroup\"><g transform=\"translate(0,0)\"><path class=\"background\" d=\"M0,0h350v250h-350Z\" style=\"fill: none;\"></path><g><g class=\"mark-line role-mark child_marks\"><path d=\"M350,28.39174062500001L348.2423675412407,28.651618749999983L346.48473508248145,28.918187499999988L344.7271026237222,29.191515624999994L342.9646547335691,29.47167812500001L341.2070222748098,29.758740625L339.44938981605054,30.052774999999997L337.69175735729124,30.353856250000007L335.9293094671381,30.662053125L334.1716770083789,30.977440625000014L332.4140445496196,31.30009687500001L330.65641209086033,31.63009687500002L328.89396420070716,31.967512500000026L327.1363317419479,32.312428125L325.37869928318867,32.66491562500002L323.62106682442936,33.02505937500004L321.85861893427625,33.392940624999994L320.10098647551695,33.76863750000001L318.3433540167577,34.152234375000006L316.5857215579984,34.54381250000003L314.8232736678453,34.94346250000001L313.06564120908604,35.35126875000003L311.3080087503268,35.76731250000003L309.5503762915675,36.1916875L307.7879284014144,36.62448125L306.0302959426551,37.0657875L304.2726634838958,37.515693750000025L302.5150310251366,37.97429062499998L300.7525831349834,38.44167812499998L298.99495067622416,38.91795000000002L297.23731821746486,39.403203125000005L295.4796857587056,39.897531250000014L293.71723786855244,40.4010375L291.95960540979326,40.913821875000025L290.20197295103395,41.435984374999975L288.44434049227465,41.96763125000004L286.68189260212154,42.508865625L284.92426014336223,43.05979375000001L283.166627684603,43.62052187499998L281.40899522584374,44.19115937500001L279.6465473356906,44.771815625000016L277.8889148769313,45.36260625L276.1312824181721,45.96364375000002L274.3736499594128,46.575040625000014L272.61120206925966,47.196912500000025L270.8535696105004,47.82938124999998L269.0959371517411,48.47255312499999L267.33830469298186,49.12652187500004L265.5758568028287,49.79137812500002L263.81822434406945,50.467203125000026L262.0605918853102,51.15203124999999L260.3029594265509,51.84388125000001L258.5405115363978,52.542834374999984L256.78287907763854,53.248971874999995L255.02524661887924,53.96236562500002L253.26761416011996,54.68310625000001L251.50516626996685,55.41127187500001L249.74753381120757,56.146946875000026L247.98990135244833,56.89021875000003L246.23226889368902,57.64116875000002L244.4698210035359,58.39988437500003L242.71218854477664,59.166459375000045L240.95455608601733,59.94097500000001L239.1969236272581,60.723528125L237.43447573710495,61.51420625L235.6768432783457,62.313106250000004L233.91921081958643,63.120321875L232.16157836082718,63.935943750000035L230.399130470674,64.76007500000003L228.64149801191476,65.592809375L226.8838655531555,66.43424687499999L225.1262330943962,67.28449375L223.36378520424307,68.14364687500003L221.6061527454838,69.01180937500001L219.84852028672455,69.889090625L218.09088782796528,70.77559375000001L216.32843993781216,71.671428125L214.57080747905286,72.57670625L212.8131750202936,73.49153437500001L211.05554256153434,74.416028125L209.29309467138123,75.35030312499998L207.53546221262192,76.29447187500003L205.77782975386265,77.24865624999998L204.0201972951034,78.21297500000003L202.25774940495026,79.18755000000002L200.500116946191,80.17250000000001L198.7424844874317,81.167953125L196.98485202867244,82.17403750000003L195.22240413851932,83.19087812500001L193.46477167976008,84.218609375L191.7071392210008,85.25735937500002L189.9495067622415,86.30726874999999L188.1870588720884,87.36846875L186.4294264133291,88.44110000000003L184.67179395456986,89.52530000000002L182.91416149581056,90.62121562499999L181.15171360565745,91.72896562500003L179.39408114689817,92.84864374999998L177.6364486881389,93.98032187500002L175.87881622937965,95.124075L174.12118377062035,96.27573125000004L172.3635513118611,97.43109375L170.60591885310183,98.59019375L168.84828639434255,99.75307187500002L167.08583850418944,100.91975625L165.32820604543016,102.09028125000003L163.5705735866709,103.264671875L161.8129411279116,104.44293437500002L160.05049323775847,105.62506562500002L158.2928607789992,106.81105625000001L156.53522832023995,107.99865937499999L154.77759586148068,109.18561249999999L153.01514797132754,110.37187812500002L151.2575155125683,111.55743437500001L149.49988305380901,112.742246875L147.74225059504974,113.9262875L145.97980270489663,115.10953125L144.22217024613732,116.29195312500002L142.46453778737808,117.47355000000002L140.7069053286188,118.6543L138.94445743846566,119.83524687500002L137.1868249797064,121.01743125000002L135.42919252094714,122.20085312500001L133.67156006218784,123.38550937500001L131.90911217203472,124.57139687500002L130.15147971327545,125.75851562500002L128.39384725451617,126.94686250000001L126.63621479575691,128.136453125L124.87376690560379,129.32729375000002L123.11613444684451,130.519403125L121.35850198808525,131.71371562500002L119.60086952932596,132.91117500000001L117.83842163917285,134.11180625L116.08078918041359,135.315634375L114.3231567216543,136.52267812500003L112.56552426289504,137.73297187500003L110.8030763727419,138.94652812500001L109.04544391398264,140.1633625L107.28781145522336,141.3834875L105.5301789964641,142.606903125L103.76773110631096,143.83261562500002L102.0100986475517,145.059615625L100.25246618879243,146.28789999999998L98.49483373003315,147.51746250000002L96.73238583988004,148.74830624999998L94.97475338112075,149.98041875L93.21712092236149,151.213790625L91.45948846360223,152.44840625L89.69704057344909,153.684228125L87.93940811468983,154.921234375L86.18177565593055,156.158025L84.42414319717128,157.39320625L82.66169530701815,158.626725L80.90406284825887,159.8585375L79.1464303894996,161.088590625L77.38879793074034,162.316834375L75.6263500405872,163.54319687500004L73.86871758182794,164.76756562500003L72.11108512306866,165.98980625000002L70.3534526643094,167.20978125L68.59100477415627,168.422646875L66.833372315397,169.623534375L65.07573985663772,170.81224062500002L63.31810739787846,171.98856875L61.55565950772533,173.15231562500003L59.798027048966055,174.30327812500002L58.040394590206795,175.44124375L56.28276213144752,176.566015625L54.52031424129439,177.67738125L52.76268178253512,178.775134375L51.00504932377585,179.859321875L49.247416865016575,180.929984375L47.48496897486345,181.986909375L45.727336516104174,183.029884375L43.96970405734491,184.0587L42.21207159858564,185.073134375L40.44962370843251,186.07296875L38.69199124967324,187.057953125L36.93435879091397,188.0278375L35.1767263321547,188.982365625L33.41427844200157,189.91948125L31.6566459832423,190.8371L29.899013524483028,191.734953125L28.14138106572376,192.612759375L26.378933175570626,193.4702375L24.62130071681136,194.307109375L22.863668258052087,195.1231125L21.10603579929282,195.91803125L19.34358790913969,196.69166875L17.585955450380418,197.443825L15.82832299162115,198.179071875L14.07069053286188,198.90232500000002L12.308242642708748,199.61366875000002L10.55061018394948,200.31278125L8.792977725190209,200.99976875L7.03534526643094,201.75080937500002L5.272897376277808,202.473275L3.5152649175185395,203.159490625L1.7576324587592698,203.92585L0,204.67821874999998\" style=\"fill: none; stroke: #f58518; stroke-width: 2;\"></path></g></g></g><g transform=\"translate(0,0)\"><path class=\"background\" d=\"M0,0h350v250h-350Z\" style=\"fill: none;\"></path><g><g class=\"mark-line role-mark child_marks\"><path d=\"M350,114.21301466427181L262.0605918853102,123.13151523954052L174.12118377062035,137.19861449983404L130.15147971327545,147.3762377518603L86.18177565593055,161.245446660929L68.59100477415627,168.0236245310329L51.00504932377585,175.4331412058228L33.41427844200157,183.42043311131283L15.82832299162115,191.9612351648044L14.07069053286188,192.85166187215867\" style=\"fill: none; stroke: #4c78a8; stroke-width: 2;\"></path></g></g></g></g><g class=\"mark-group role-axis\"><g transform=\"translate(0.5,0.5)\"><path class=\"background\" d=\"M0,0h0v0h0Z\" style=\"pointer-events: none; fill: none;\"></path><g><g class=\"mark-rule role-axis-tick\" style=\"pointer-events: none;\"><line transform=\"translate(0,250)\" x2=\"-5\" y2=\"0\" style=\"fill: none; stroke: #888; stroke-width: 1; opacity: 1;\"></line><line transform=\"translate(0,219)\" x2=\"-5\" y2=\"0\" style=\"fill: none; stroke: #888; stroke-width: 1; opacity: 1;\"></line><line transform=\"translate(0,188)\" x2=\"-5\" y2=\"0\" style=\"fill: none; stroke: #888; stroke-width: 1; opacity: 1;\"></line><line transform=\"translate(0,156)\" x2=\"-5\" y2=\"0\" style=\"fill: none; stroke: #888; stroke-width: 1; opacity: 1;\"></line><line transform=\"translate(0,125)\" x2=\"-5\" y2=\"0\" style=\"fill: none; stroke: #888; stroke-width: 1; opacity: 1;\"></line><line transform=\"translate(0,94)\" x2=\"-5\" y2=\"0\" style=\"fill: none; stroke: #888; stroke-width: 1; opacity: 1;\"></line><line transform=\"translate(0,63)\" x2=\"-5\" y2=\"0\" style=\"fill: none; stroke: #888; stroke-width: 1; opacity: 1;\"></line><line transform=\"translate(0,31)\" x2=\"-5\" y2=\"0\" style=\"fill: none; stroke: #888; stroke-width: 1; opacity: 1;\"></line><line transform=\"translate(0,0)\" x2=\"-5\" y2=\"0\" style=\"fill: none; stroke: #888; stroke-width: 1; opacity: 1;\"></line></g><g class=\"mark-text role-axis-label\" style=\"pointer-events: none;\"><text text-anchor=\"end\" transform=\"translate(-7,253)\" style=\"font-family: sans-serif; font-size: 10px; fill: #000; opacity: 1;\">0.0</text><text text-anchor=\"end\" transform=\"translate(-7,221.75)\" style=\"font-family: sans-serif; font-size: 10px; fill: #000; opacity: 1;\">0.1</text><text text-anchor=\"end\" transform=\"translate(-7,190.5)\" style=\"font-family: sans-serif; font-size: 10px; fill: #000; opacity: 1;\">0.2</text><text text-anchor=\"end\" transform=\"translate(-7,159.25)\" style=\"font-family: sans-serif; font-size: 10px; fill: #000; opacity: 1;\">0.3</text><text text-anchor=\"end\" transform=\"translate(-7,128)\" style=\"font-family: sans-serif; font-size: 10px; fill: #000; opacity: 1;\">0.4</text><text text-anchor=\"end\" transform=\"translate(-7,96.75)\" style=\"font-family: sans-serif; font-size: 10px; fill: #000; opacity: 1;\">0.5</text><text text-anchor=\"end\" transform=\"translate(-7,65.50000000000003)\" style=\"font-family: sans-serif; font-size: 10px; fill: #000; opacity: 1;\">0.6</text><text text-anchor=\"end\" transform=\"translate(-7,34.25000000000003)\" style=\"font-family: sans-serif; font-size: 10px; fill: #000; opacity: 1;\">0.7</text><text text-anchor=\"end\" transform=\"translate(-7,3)\" style=\"font-family: sans-serif; font-size: 10px; fill: #000; opacity: 1;\">0.8</text></g><g class=\"mark-rule role-axis-domain\" style=\"pointer-events: none;\"><line transform=\"translate(0,250)\" x2=\"0\" y2=\"-250\" style=\"fill: none; stroke: #888; stroke-width: 1; opacity: 1;\"></line></g><g class=\"mark-text role-axis-title\" style=\"pointer-events: none;\"><text text-anchor=\"middle\" transform=\"translate(-36,125) rotate(-90) translate(0,-2)\" style=\"font-family: sans-serif; font-size: 11px; font-weight: bold; fill: #000; opacity: 1;\">W/m²</text></g></g></g></g></g></g></g><g class=\"mark-group role-legend\"><g transform=\"translate(1197,0)\"><path class=\"background\" d=\"M0,0h129v45h-129Z\" style=\"pointer-events: none; fill: none;\"></path><g><g class=\"mark-group role-legend-entry\"><g transform=\"translate(0,16)\"><path class=\"background\" d=\"M0,0h0v0h0Z\" style=\"pointer-events: none; fill: none;\"></path><g><g class=\"mark-group role-scope\"><g transform=\"translate(0,0)\"><path class=\"background\" d=\"M0,0h129v12.5h-129Z\" style=\"pointer-events: none; fill: none; opacity: 1;\"></path><g><g class=\"mark-symbol role-legend-symbol\" style=\"pointer-events: none;\"><path transform=\"translate(6,6)\" d=\"M5,0A5,5,0,1,1,-5,0A5,5,0,1,1,5,0\" style=\"fill: none; stroke: #4c78a8; stroke-width: 1.5; opacity: 1;\"></path></g><g class=\"mark-text role-legend-label\" style=\"pointer-events: none;\"><text text-anchor=\"start\" transform=\"translate(16,9)\" style=\"font-family: sans-serif; font-size: 10px; fill: #000; opacity: 1;\">Mimi-Page-2009</text></g></g></g><g transform=\"translate(0,16)\"><path class=\"background\" d=\"M0,0h129v12.5h-129Z\" style=\"pointer-events: none; fill: none; opacity: 1;\"></path><g><g class=\"mark-symbol role-legend-symbol\" style=\"pointer-events: none;\"><path transform=\"translate(6,6)\" d=\"M5,0A5,5,0,1,1,-5,0A5,5,0,1,1,5,0\" style=\"fill: none; stroke: #f58518; stroke-width: 1.5; opacity: 1;\"></path></g><g class=\"mark-text role-legend-label\" style=\"pointer-events: none;\"><text text-anchor=\"start\" transform=\"translate(16,9)\" style=\"font-family: sans-serif; font-size: 10px; fill: #000; opacity: 1;\">RCP 8.5</text></g></g></g></g></g></g></g><g class=\"mark-text role-legend-title\" style=\"pointer-events: none;\"><text text-anchor=\"start\" transform=\"translate(0,9)\" style=\"font-family: sans-serif; font-size: 11px; font-weight: bold; fill: #000; opacity: 1;\">Source</text></g></g></g></g></g></g></g></g></svg>"
      ],
      "text/plain": [
       "VegaLite.VLSpec{:plot}"
      ]
     },
     "execution_count": 4,
     "metadata": {},
     "output_type": "execute_result"
    }
   ],
   "source": [
    "df |>\n",
    "@filter(_.year > Date(2000) && _.year <= Date(2200)) |>\n",
    "@vlplot(\n",
    "    :line,\n",
    "    width=350, height=250,\n",
    "    x={\"year(year)\", title=\"year\"},\n",
    "    y={:value, title=\"W/m²\"},\n",
    "    column={\"variable:n\", title=\"\"},\n",
    "    color={:model, legend={title=\"Source\"}},\n",
    "    resolve={scale={y=:independent}}\n",
    ")"
   ]
  }
 ],
 "metadata": {
  "kernelspec": {
   "display_name": "Julia 1.0.3",
   "language": "julia",
   "name": "julia-1.0"
  },
  "language_info": {
   "file_extension": ".jl",
   "mimetype": "application/julia",
   "name": "julia",
   "version": "1.0.3"
  }
 },
 "nbformat": 4,
 "nbformat_minor": 2
}
